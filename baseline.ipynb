{
 "cells": [
  {
   "cell_type": "markdown",
   "id": "d665231a-fbf0-4962-8fb9-e7a67082f6de",
   "metadata": {},
   "source": [
    "Импортируем библиотеки"
   ]
  },
  {
   "cell_type": "code",
   "execution_count": 1,
   "id": "5230d9fa-6e74-4062-a979-86c643e5ac52",
   "metadata": {},
   "outputs": [],
   "source": [
    "import numpy as np\n",
    "import pandas as pd\n",
    "import matplotlib.pyplot as plt\n",
    "import seaborn as sns\n",
    "from scipy import stats\n",
    "import catboost as cb\n",
    "from datetime import datetime\n",
    "import seaborn as sns"
   ]
  },
  {
   "cell_type": "code",
   "execution_count": 2,
   "id": "87c4713f-cdef-4291-97f8-46e2ffc8cb49",
   "metadata": {},
   "outputs": [],
   "source": [
    "data_train = pd.read_csv(\"./data/train.csv\")\n",
    "data_test = pd.read_csv(\"./data/test.csv\")\n",
    "data_webstat = pd.read_csv(\"./data/t1_webstat.csv\")"
   ]
  },
  {
   "cell_type": "markdown",
   "id": "02729a40-c431-45a4-84e0-ccc7cebb45b7",
   "metadata": {},
   "source": [
    "is_callcenter - был ли совершен звонок в коллцентр по итогам сессии (нужно предсказать)\n",
    "\n",
    "order_id - id заказа\n",
    "\n",
    "create_time - время создания заказа\n",
    "\n",
    "good_id - id товара\n",
    "\n",
    "price - цена товара\n",
    "\n",
    "utm_medium - тип трафика\n",
    "\n",
    "utm_source - источник трафика\n",
    "\n",
    "sessionkey_id - id сессии пользователя\n",
    "\n",
    "category_id - id категории товара\n",
    "\n",
    "parent_id - id родительской категории для категории товара\n",
    "\n",
    "root_id - id \"базовой\" категории товара\n",
    "\n",
    "rating_value - рейтинг товара\n",
    "\n",
    "rating_count - число оценок товара\n",
    "\n",
    "description_length - длина описания товара\n",
    "\n",
    "goods_qty - число товаров в заказе\n",
    "\n",
    "model_id - ???\n",
    "\n",
    "is_moderated - ???\n",
    "\n",
    "pics_qty - ???\n",
    "\n",
    "model_create_time - ???"
   ]
  },
  {
   "cell_type": "markdown",
   "id": "2e288920-0b63-41ea-b0cf-e444e6659ad8",
   "metadata": {},
   "source": [
    "sessionkey_id - id сессии пользователя\n",
    "\n",
    "date_time - timestamp захода на страницу определенного типа\n",
    "\n",
    "page_type - тип просмотренной страницы\n",
    "\n",
    "pageview_number - порядковый номер страницы среди всех страниц, отсортированных по времени посещения внутри сессии\n",
    "\n",
    "pageview_duration_sec - время просмотра страницы\n",
    "\n",
    "product_in_sale - ???"
   ]
  },
  {
   "cell_type": "code",
   "execution_count": 3,
   "id": "15906de4-ec3a-483e-90ca-602821c3ab14",
   "metadata": {},
   "outputs": [],
   "source": [
    "data_train[\"create_time_ts\"] = None\n",
    "data_test[\"create_time_ts\"] = None\n",
    "data_train[\"model_create_time_ts\"] = None\n",
    "data_test[\"model_create_time_ts\"] = None\n",
    "\n",
    "from datetime import datetime\n",
    "# convert string to date\n",
    "data_train.create_time_ts = data_train.apply(lambda x: datetime.strptime(x.create_time[:19], '%Y-%m-%d %H:%M:%S'), axis=1)\n",
    "data_test.create_time_ts = data_test.apply(lambda x: datetime.strptime(x.create_time[:19], '%Y-%m-%d %H:%M:%S'), axis=1)\n",
    "\n",
    "data_train.loc[~data_train.model_create_time.isna(), \"model_create_time_ts\"] = data_train.loc[~data_train.model_create_time.isna()].apply(lambda x: datetime.strptime(x.model_create_time[:19], '%Y-%m-%d %H:%M:%S'), axis=1)\n",
    "data_test.loc[~data_test.model_create_time.isna(), \"model_create_time_ts\"] = data_test.loc[~data_test.model_create_time.isna()].apply(lambda x: datetime.strptime(x.model_create_time[:19], '%Y-%m-%d %H:%M:%S'), axis=1)"
   ]
  },
  {
   "cell_type": "code",
   "execution_count": 4,
   "id": "93046d0e-248e-486e-9459-4c246e5317f8",
   "metadata": {},
   "outputs": [],
   "source": [
    "del data_train[\"create_time\"]\n",
    "del data_train[\"model_create_time\"]\n",
    "del data_test[\"create_time\"]\n",
    "del data_test[\"model_create_time\"]"
   ]
  },
  {
   "cell_type": "code",
   "execution_count": 5,
   "id": "730eb278-94f0-468b-aedd-6de934a9e386",
   "metadata": {},
   "outputs": [],
   "source": [
    "data_train.model_create_time_ts = data_train.model_create_time_ts.fillna(data_train.create_time_ts)\n",
    "data_test.model_create_time_ts = data_test.model_create_time_ts.fillna(data_test.create_time_ts)"
   ]
  },
  {
   "cell_type": "code",
   "execution_count": 123,
   "id": "751e965d-8d1d-4ac9-ba1f-96100ae1aa82",
   "metadata": {},
   "outputs": [
    {
     "name": "stdout",
     "output_type": "stream",
     "text": [
      "Рейтинг товаров, по которым позвонили:  1.5399876007439555 , по которым не звонили 1.4771690174232548\n"
     ]
    }
   ],
   "source": [
    "print(\"Рейтинг товаров, по которым позвонили: \", data_train[data_train[\"is_callcenter\"] == 1][\"rating_value\"].mean(), \n",
    "      \", по которым не звонили\", data_train[data_train[\"is_callcenter\"] == 0][\"rating_value\"].mean())"
   ]
  },
  {
   "cell_type": "code",
   "execution_count": 124,
   "id": "e8b5973a-4fc4-4194-a700-b3b3856ca550",
   "metadata": {},
   "outputs": [
    {
     "name": "stdout",
     "output_type": "stream",
     "text": [
      "Длина описания товаров, по которым позвонили:  572.92983638373 , по которым не звонили 573.338671921299\n"
     ]
    }
   ],
   "source": [
    "print(\"Длина описания товаров, по которым позвонили: \", data_train[data_train[\"is_callcenter\"] == 1][\"description_length\"].mean(), \n",
    "      \", по которым не звонили\", data_train[data_train[\"is_callcenter\"] == 0][\"description_length\"].mean())"
   ]
  },
  {
   "cell_type": "code",
   "execution_count": 125,
   "id": "6030382d-fbfa-4a1a-a9a8-2cf47fed3378",
   "metadata": {},
   "outputs": [
    {
     "name": "stdout",
     "output_type": "stream",
     "text": [
      "Представителей 0 класса: 67496, 1 класса: 37099\n"
     ]
    }
   ],
   "source": [
    "print(\"Представителей 0 класса: 67496, 1 класса: 37099\")"
   ]
  },
  {
   "cell_type": "code",
   "execution_count": 15,
   "id": "75bde252-69e2-4b60-8067-b04c69c9a2b1",
   "metadata": {},
   "outputs": [],
   "source": [
    "A = data_train.groupby(['root_id'])['is_callcenter'].sum().sort_values()\n",
    "B = data_train.groupby(['root_id'])['is_callcenter'].count().sort_values()\n",
    "C = A.divide(B).sort_values()\n",
    "\n",
    "order_id = list(data_train[\"order_id\"].unique())\n",
    "new_column = list()\n",
    "for order in order_id:\n",
    "    root = list(data_train[data_train[\"order_id\"] == order][\"root_id\"].values)[0]\n",
    "    new_column.append(C[root])\n",
    "new_column_test = list()\n",
    "for order in list(data_test[\"order_id\"].unique()):\n",
    "    root = list(data_test[data_test[\"order_id\"] == order][\"root_id\"].values)[0]\n",
    "    new_column_test.append(C[root])\n",
    "data_train['root_mean_call'] = new_column\n",
    "data_test['root_mean_call'] = new_column_test"
   ]
  },
  {
   "cell_type": "code",
   "execution_count": 27,
   "id": "159f5f22-3f90-44f9-ba91-1a1d76ee471a",
   "metadata": {},
   "outputs": [],
   "source": [
    "new_column = list()\n",
    "for order in range(data_train.shape[0]):\n",
    "    hour = data_train[\"create_time_ts\"][order].time().hour\n",
    "    new_column.append(hour)\n",
    "data_train['hour'] = new_column\n",
    "new_column = list()\n",
    "for order in range(data_test.shape[0]):\n",
    "    hour = data_test[\"create_time_ts\"][order].time().hour\n",
    "    new_column.append(hour)\n",
    "data_test['hour'] = new_column"
   ]
  },
  {
   "cell_type": "code",
   "execution_count": 54,
   "id": "ac444839-578e-4b77-ae7c-a06c59633d39",
   "metadata": {},
   "outputs": [],
   "source": [
    "data_train[\"utm_source\"].fillna(0, inplace=True)\n",
    "data_test[\"utm_source\"].fillna(0, inplace=True)"
   ]
  },
  {
   "cell_type": "code",
   "execution_count": 66,
   "id": "118e5be9-bfc0-4ac9-b0fa-24b63094943f",
   "metadata": {},
   "outputs": [],
   "source": [
    "data_train[\"rating_value\"].fillna(0, inplace=True)\n",
    "data_test[\"rating_value\"].fillna(0, inplace=True)"
   ]
  },
  {
   "cell_type": "code",
   "execution_count": 75,
   "id": "4e2d912b-6d17-4df8-83fe-9d86a2ffd080",
   "metadata": {},
   "outputs": [],
   "source": [
    "data_train[\"rating_count\"].fillna(0, inplace=True)\n",
    "data_test[\"rating_count\"].fillna(0, inplace=True)"
   ]
  },
  {
   "cell_type": "code",
   "execution_count": 149,
   "id": "93311a03-7cb6-4abf-acfc-89885e2db90e",
   "metadata": {},
   "outputs": [],
   "source": [
    "new_column = list()\n",
    "for order in range(data_train.shape[0]):\n",
    "    day = data_train[\"create_time_ts\"][order].date().weekday()\n",
    "    new_column.append(day)\n",
    "data_train['day_of_week'] = new_column\n",
    "new_column = list()\n",
    "for order in range(data_test.shape[0]):\n",
    "    day = data_test[\"create_time_ts\"][order].date().weekday()\n",
    "    new_column.append(day)\n",
    "data_test['day_of_week'] = new_column"
   ]
  },
  {
   "cell_type": "code",
   "execution_count": 164,
   "id": "bbf2d249-0337-4ef2-be99-d0c0652f0cf7",
   "metadata": {},
   "outputs": [],
   "source": [
    "data_train[\"life_time\"] = (data_train.create_time_ts - data_train.model_create_time_ts).astype('timedelta64[D]')\n",
    "data_test[\"life_time\"] = (data_test.create_time_ts - data_test.model_create_time_ts).astype('timedelta64[D]')"
   ]
  },
  {
   "cell_type": "code",
   "execution_count": 203,
   "id": "18703112-fa40-4652-bb7d-c573b28c1fd2",
   "metadata": {},
   "outputs": [],
   "source": [
    "new_column = list()\n",
    "for num in range(data_train.shape[0]):\n",
    "    sess_key = data_train[\"sessionkey_id\"][num]\n",
    "    max_time = data_webstat[data_webstat[\"sessionkey_id\"] == sess_key][\"pageview_duration_sec\"].max()\n",
    "    new_column.append(max_time)\n",
    "data_train['max_time_in_page'] = new_column\n",
    "new_column = list()\n",
    "for num in range(data_test.shape[0]):\n",
    "    sess_key = data_test[\"sessionkey_id\"][num]\n",
    "    max_time = data_webstat[data_webstat[\"sessionkey_id\"] == sess_key][\"pageview_duration_sec\"].max()\n",
    "    new_column.append(max_time)\n",
    "data_test['max_time_in_page'] = new_column"
   ]
  },
  {
   "cell_type": "code",
   "execution_count": 205,
   "id": "a7073419-b5f0-446e-9341-3e10595a129a",
   "metadata": {},
   "outputs": [],
   "source": [
    "data_train[\"max_time_in_page\"].fillna(-1, inplace=True)\n",
    "data_test[\"max_time_in_page\"].fillna(-1, inplace=True)"
   ]
  },
  {
   "cell_type": "code",
   "execution_count": 206,
   "id": "14c3f089-113b-4b1e-8e4d-7741deeb0ddb",
   "metadata": {},
   "outputs": [],
   "source": [
    "features = [\"pics_qty\", \n",
    "            \"goods_qty\", \n",
    "            \"description_length\", \n",
    "            \"is_moderated\", \n",
    "            \"model_id\", \n",
    "            \"parent_id\", \n",
    "            \"category_id\", \n",
    "            \"utm_medium\", \n",
    "            \"price\", \n",
    "            \"root_mean_call\",\n",
    "            \"hour\",\n",
    "            \"utm_source\",\n",
    "            \"rating_value\",\n",
    "            \"day_of_week\",\n",
    "            \"life_time\",\n",
    "            \"max_time_in_page\"]"
   ]
  },
  {
   "cell_type": "markdown",
   "id": "6ad38126-7ce6-4532-8735-2910f8721fed",
   "metadata": {
    "tags": []
   },
   "source": [
    "# ОБУЧЕНИЕ (TEST)"
   ]
  },
  {
   "cell_type": "code",
   "execution_count": 207,
   "id": "493a68fa-0778-4657-930e-5dde532f055c",
   "metadata": {},
   "outputs": [],
   "source": [
    "from catboost import CatBoostClassifier\n",
    "from sklearn.model_selection import train_test_split\n",
    "from catboost import cv\n",
    "from catboost import Pool"
   ]
  },
  {
   "cell_type": "code",
   "execution_count": 208,
   "id": "0a0dc808-9a5d-4250-8bd8-9a672e2a4a3e",
   "metadata": {},
   "outputs": [],
   "source": [
    "X_train_val, X_test, y_train_val, y_test = train_test_split(data_train[features], data_train[\"is_callcenter\"], test_size=0.15, random_state=42, stratify=data_train[\"is_callcenter\"])\n",
    "X_train, X_val, y_train, y_val = train_test_split(X_train_val, y_train_val, test_size=0.15, random_state=42, stratify = y_train_val)"
   ]
  },
  {
   "cell_type": "code",
   "execution_count": 209,
   "id": "f57e4a3b-3515-4f9c-8ea1-551353fe4a55",
   "metadata": {},
   "outputs": [],
   "source": [
    "model = CatBoostClassifier(eval_metric = 'AUC', class_weights = [0.35, 0.65], verbose = 100)"
   ]
  },
  {
   "cell_type": "code",
   "execution_count": 210,
   "id": "3bffc059-a452-4051-8c6d-43b019a3a78f",
   "metadata": {},
   "outputs": [
    {
     "name": "stdout",
     "output_type": "stream",
     "text": [
      "Learning rate set to 0.092227\n",
      "0:\ttest: 0.6902268\tbest: 0.6902268 (0)\ttotal: 16.5ms\tremaining: 16.4s\n",
      "100:\ttest: 0.7233423\tbest: 0.7233423 (100)\ttotal: 1.05s\tremaining: 9.38s\n",
      "200:\ttest: 0.7248600\tbest: 0.7248974 (193)\ttotal: 2.02s\tremaining: 8.04s\n",
      "300:\ttest: 0.7255366\tbest: 0.7257080 (274)\ttotal: 3.03s\tremaining: 7.04s\n",
      "400:\ttest: 0.7246319\tbest: 0.7257080 (274)\ttotal: 4.03s\tremaining: 6.01s\n",
      "500:\ttest: 0.7241534\tbest: 0.7257080 (274)\ttotal: 4.97s\tremaining: 4.95s\n",
      "600:\ttest: 0.7238006\tbest: 0.7257080 (274)\ttotal: 6s\tremaining: 3.98s\n",
      "700:\ttest: 0.7229794\tbest: 0.7257080 (274)\ttotal: 6.97s\tremaining: 2.97s\n",
      "800:\ttest: 0.7229060\tbest: 0.7257080 (274)\ttotal: 7.94s\tremaining: 1.97s\n",
      "900:\ttest: 0.7223848\tbest: 0.7257080 (274)\ttotal: 8.96s\tremaining: 985ms\n",
      "999:\ttest: 0.7219336\tbest: 0.7257080 (274)\ttotal: 9.93s\tremaining: 0us\n",
      "\n",
      "bestTest = 0.7257079603\n",
      "bestIteration = 274\n",
      "\n",
      "Shrink model to first 275 iterations.\n"
     ]
    },
    {
     "data": {
      "text/plain": [
       "<catboost.core.CatBoostClassifier at 0x7f9be5332be0>"
      ]
     },
     "execution_count": 210,
     "metadata": {},
     "output_type": "execute_result"
    }
   ],
   "source": [
    "model.fit(X_train, y_train,eval_set=(X_val, y_val), use_best_model=True)"
   ]
  },
  {
   "cell_type": "code",
   "execution_count": 211,
   "id": "8d347097-4676-4b89-88c2-857d5c22ac4a",
   "metadata": {},
   "outputs": [],
   "source": [
    "predictions = model.predict(X_test[features])"
   ]
  },
  {
   "cell_type": "code",
   "execution_count": 212,
   "id": "d58cef0d-ae6c-41e2-bda0-dae6e8160e47",
   "metadata": {},
   "outputs": [
    {
     "data": {
      "text/plain": [
       "0.6611111776646367"
      ]
     },
     "execution_count": 212,
     "metadata": {},
     "output_type": "execute_result"
    }
   ],
   "source": [
    "from sklearn.metrics import roc_auc_score\n",
    "roc_auc_score(y_test, predictions)"
   ]
  },
  {
   "cell_type": "markdown",
   "id": "c0df3740-2ddb-4395-9561-05df76ec076c",
   "metadata": {
    "tags": []
   },
   "source": [
    "# ОБУЧЕНИЕ (Kaggle)"
   ]
  },
  {
   "cell_type": "code",
   "execution_count": 213,
   "id": "00a256ca-408a-4759-80b7-efdf731a6d36",
   "metadata": {},
   "outputs": [],
   "source": [
    "X_train, X_val, y_train, y_val = train_test_split(data_train[features], data_train[\"is_callcenter\"], test_size=0.2, random_state=42, stratify=data_train[\"is_callcenter\"])"
   ]
  },
  {
   "cell_type": "code",
   "execution_count": 214,
   "id": "6a28f6f3-a706-4721-bc6b-8b3b71cbb6c4",
   "metadata": {},
   "outputs": [
    {
     "name": "stdout",
     "output_type": "stream",
     "text": [
      "Learning rate set to 0.094578\n",
      "0:\ttest: 0.6956632\tbest: 0.6956632 (0)\ttotal: 18.2ms\tremaining: 18.2s\n",
      "100:\ttest: 0.7241020\tbest: 0.7241360 (96)\ttotal: 1.28s\tremaining: 11.4s\n",
      "200:\ttest: 0.7260347\tbest: 0.7261765 (197)\ttotal: 2.5s\tremaining: 9.93s\n",
      "300:\ttest: 0.7266476\tbest: 0.7266705 (299)\ttotal: 3.8s\tremaining: 8.82s\n",
      "400:\ttest: 0.7269057\tbest: 0.7270301 (340)\ttotal: 4.87s\tremaining: 7.27s\n",
      "500:\ttest: 0.7268669\tbest: 0.7271251 (481)\ttotal: 5.91s\tremaining: 5.88s\n",
      "600:\ttest: 0.7260575\tbest: 0.7271251 (481)\ttotal: 6.95s\tremaining: 4.61s\n",
      "700:\ttest: 0.7258571\tbest: 0.7271251 (481)\ttotal: 7.98s\tremaining: 3.4s\n",
      "800:\ttest: 0.7258402\tbest: 0.7271251 (481)\ttotal: 9.05s\tremaining: 2.25s\n",
      "900:\ttest: 0.7255495\tbest: 0.7271251 (481)\ttotal: 10.1s\tremaining: 1.11s\n",
      "999:\ttest: 0.7249904\tbest: 0.7271251 (481)\ttotal: 11.1s\tremaining: 0us\n",
      "\n",
      "bestTest = 0.72712513\n",
      "bestIteration = 481\n",
      "\n",
      "Shrink model to first 482 iterations.\n"
     ]
    },
    {
     "data": {
      "text/plain": [
       "<catboost.core.CatBoostClassifier at 0x7f9be7148190>"
      ]
     },
     "execution_count": 214,
     "metadata": {},
     "output_type": "execute_result"
    }
   ],
   "source": [
    "model = CatBoostClassifier(eval_metric = 'AUC', class_weights = [0.35, 0.65], verbose = 100)\n",
    "model.fit(X_train, y_train,eval_set=(X_val, y_val), use_best_model=True)"
   ]
  },
  {
   "cell_type": "code",
   "execution_count": 215,
   "id": "bc9fad46-9b25-448b-a0f6-9b4920025fa8",
   "metadata": {},
   "outputs": [],
   "source": [
    "predictions = model.predict(data_test[features])"
   ]
  },
  {
   "cell_type": "code",
   "execution_count": 216,
   "id": "ecd91f9a-bc33-40da-bcf4-005f82fbd86e",
   "metadata": {},
   "outputs": [],
   "source": [
    "id_column = data_test[\"order_id\"]\n",
    "result_column = predictions\n",
    "dataset = pd.DataFrame({'order_id': id_column, 'is_callcenter': list(result_column)}, columns=['order_id', 'is_callcenter'])\n",
    "dataset.to_csv(\"sample_submission.csv\", index=False)"
   ]
  },
  {
   "cell_type": "code",
   "execution_count": null,
   "id": "02fc86fa-d3f5-425a-9749-8036edac4e55",
   "metadata": {},
   "outputs": [],
   "source": []
  }
 ],
 "metadata": {
  "kernelspec": {
   "display_name": "Python 3 (ipykernel)",
   "language": "python",
   "name": "python3"
  },
  "language_info": {
   "codemirror_mode": {
    "name": "ipython",
    "version": 3
   },
   "file_extension": ".py",
   "mimetype": "text/x-python",
   "name": "python",
   "nbconvert_exporter": "python",
   "pygments_lexer": "ipython3",
   "version": "3.9.7"
  }
 },
 "nbformat": 4,
 "nbformat_minor": 5
}
