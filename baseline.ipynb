{
 "cells": [
  {
   "cell_type": "markdown",
   "id": "d665231a-fbf0-4962-8fb9-e7a67082f6de",
   "metadata": {},
   "source": [
    "Импортируем библиотеки"
   ]
  },
  {
   "cell_type": "code",
   "execution_count": 3,
   "id": "5230d9fa-6e74-4062-a979-86c643e5ac52",
   "metadata": {},
   "outputs": [],
   "source": [
    "import numpy as np\n",
    "import pandas as pd\n",
    "import matplotlib.pyplot as plt\n",
    "import seaborn as sns\n",
    "from scipy import stats\n",
    "import catboost as cb\n",
    "from datetime import datetime\n",
    "import seaborn as sns"
   ]
  },
  {
   "cell_type": "code",
   "execution_count": 2,
   "id": "87c4713f-cdef-4291-97f8-46e2ffc8cb49",
   "metadata": {},
   "outputs": [],
   "source": [
    "data_train = pd.read_csv(\"./data/train.csv\")\n",
    "data_test = pd.read_csv(\"./data/test.csv\")\n",
    "data_webstat = pd.read_csv(\"./data/t1_webstat.csv\")"
   ]
  },
  {
   "cell_type": "markdown",
   "id": "02729a40-c431-45a4-84e0-ccc7cebb45b7",
   "metadata": {},
   "source": [
    "is_callcenter - был ли совершен звонок в коллцентр по итогам сессии (нужно предсказать)\n",
    "\n",
    "order_id - id заказа\n",
    "\n",
    "create_time - время создания заказа\n",
    "\n",
    "good_id - id товара\n",
    "\n",
    "price - цена товара\n",
    "\n",
    "utm_medium - тип трафика\n",
    "\n",
    "utm_source - источник трафика\n",
    "\n",
    "sessionkey_id - id сессии пользователя\n",
    "\n",
    "category_id - id категории товара\n",
    "\n",
    "parent_id - id родительской категории для категории товара\n",
    "\n",
    "root_id - id \"базовой\" категории товара\n",
    "\n",
    "rating_value - рейтинг товара\n",
    "\n",
    "rating_count - число оценок товара\n",
    "\n",
    "description_length - длина описания товара\n",
    "\n",
    "goods_qty - число товаров в заказе\n",
    "\n",
    "model_id - ???\n",
    "\n",
    "is_moderated - ???\n",
    "\n",
    "pics_qty - ???\n",
    "\n",
    "model_create_time - ???"
   ]
  },
  {
   "cell_type": "markdown",
   "id": "2e288920-0b63-41ea-b0cf-e444e6659ad8",
   "metadata": {},
   "source": [
    "sessionkey_id - id сессии пользователя\n",
    "\n",
    "date_time - timestamp захода на страницу определенного типа\n",
    "\n",
    "page_type - тип просмотренной страницы\n",
    "\n",
    "pageview_number - порядковый номер страницы среди всех страниц, отсортированных по времени посещения внутри сессии\n",
    "\n",
    "pageview_duration_sec - время просмотра страницы\n",
    "\n",
    "product_in_sale - ???"
   ]
  },
  {
   "cell_type": "code",
   "execution_count": 15,
   "id": "15906de4-ec3a-483e-90ca-602821c3ab14",
   "metadata": {},
   "outputs": [
    {
     "ename": "AttributeError",
     "evalue": "'Series' object has no attribute 'create_time'",
     "output_type": "error",
     "traceback": [
      "\u001b[0;31m---------------------------------------------------------------------------\u001b[0m",
      "\u001b[0;31mAttributeError\u001b[0m                            Traceback (most recent call last)",
      "\u001b[0;32m/var/folders/zv/mdzh5_vd2dx1b8z8y90p6xtm0000gn/T/ipykernel_24973/505272985.py\u001b[0m in \u001b[0;36m<module>\u001b[0;34m\u001b[0m\n\u001b[1;32m      6\u001b[0m \u001b[0;32mfrom\u001b[0m \u001b[0mdatetime\u001b[0m \u001b[0;32mimport\u001b[0m \u001b[0mdatetime\u001b[0m\u001b[0;34m\u001b[0m\u001b[0;34m\u001b[0m\u001b[0m\n\u001b[1;32m      7\u001b[0m \u001b[0;31m# convert string to date\u001b[0m\u001b[0;34m\u001b[0m\u001b[0;34m\u001b[0m\u001b[0m\n\u001b[0;32m----> 8\u001b[0;31m \u001b[0mdata_train\u001b[0m\u001b[0;34m.\u001b[0m\u001b[0mcreate_time_ts\u001b[0m \u001b[0;34m=\u001b[0m \u001b[0mdata_train\u001b[0m\u001b[0;34m.\u001b[0m\u001b[0mapply\u001b[0m\u001b[0;34m(\u001b[0m\u001b[0;32mlambda\u001b[0m \u001b[0mx\u001b[0m\u001b[0;34m:\u001b[0m \u001b[0mdatetime\u001b[0m\u001b[0;34m.\u001b[0m\u001b[0mstrptime\u001b[0m\u001b[0;34m(\u001b[0m\u001b[0mx\u001b[0m\u001b[0;34m.\u001b[0m\u001b[0mcreate_time\u001b[0m\u001b[0;34m[\u001b[0m\u001b[0;34m:\u001b[0m\u001b[0;36m19\u001b[0m\u001b[0;34m]\u001b[0m\u001b[0;34m,\u001b[0m \u001b[0;34m'%Y-%m-%d %H:%M:%S'\u001b[0m\u001b[0;34m)\u001b[0m\u001b[0;34m,\u001b[0m \u001b[0maxis\u001b[0m\u001b[0;34m=\u001b[0m\u001b[0;36m1\u001b[0m\u001b[0;34m)\u001b[0m\u001b[0;34m\u001b[0m\u001b[0;34m\u001b[0m\u001b[0m\n\u001b[0m\u001b[1;32m      9\u001b[0m \u001b[0mdata_test\u001b[0m\u001b[0;34m.\u001b[0m\u001b[0mcreate_time_ts\u001b[0m \u001b[0;34m=\u001b[0m \u001b[0mdata_test\u001b[0m\u001b[0;34m.\u001b[0m\u001b[0mapply\u001b[0m\u001b[0;34m(\u001b[0m\u001b[0;32mlambda\u001b[0m \u001b[0mx\u001b[0m\u001b[0;34m:\u001b[0m \u001b[0mdatetime\u001b[0m\u001b[0;34m.\u001b[0m\u001b[0mstrptime\u001b[0m\u001b[0;34m(\u001b[0m\u001b[0mx\u001b[0m\u001b[0;34m.\u001b[0m\u001b[0mcreate_time\u001b[0m\u001b[0;34m[\u001b[0m\u001b[0;34m:\u001b[0m\u001b[0;36m19\u001b[0m\u001b[0;34m]\u001b[0m\u001b[0;34m,\u001b[0m \u001b[0;34m'%Y-%m-%d %H:%M:%S'\u001b[0m\u001b[0;34m)\u001b[0m\u001b[0;34m,\u001b[0m \u001b[0maxis\u001b[0m\u001b[0;34m=\u001b[0m\u001b[0;36m1\u001b[0m\u001b[0;34m)\u001b[0m\u001b[0;34m\u001b[0m\u001b[0;34m\u001b[0m\u001b[0m\n\u001b[1;32m     10\u001b[0m \u001b[0;34m\u001b[0m\u001b[0m\n",
      "\u001b[0;32m~/opt/anaconda3/lib/python3.9/site-packages/pandas/core/frame.py\u001b[0m in \u001b[0;36mapply\u001b[0;34m(self, func, axis, raw, result_type, args, **kwargs)\u001b[0m\n\u001b[1;32m   8738\u001b[0m             \u001b[0mkwargs\u001b[0m\u001b[0;34m=\u001b[0m\u001b[0mkwargs\u001b[0m\u001b[0;34m,\u001b[0m\u001b[0;34m\u001b[0m\u001b[0;34m\u001b[0m\u001b[0m\n\u001b[1;32m   8739\u001b[0m         )\n\u001b[0;32m-> 8740\u001b[0;31m         \u001b[0;32mreturn\u001b[0m \u001b[0mop\u001b[0m\u001b[0;34m.\u001b[0m\u001b[0mapply\u001b[0m\u001b[0;34m(\u001b[0m\u001b[0;34m)\u001b[0m\u001b[0;34m\u001b[0m\u001b[0;34m\u001b[0m\u001b[0m\n\u001b[0m\u001b[1;32m   8741\u001b[0m \u001b[0;34m\u001b[0m\u001b[0m\n\u001b[1;32m   8742\u001b[0m     def applymap(\n",
      "\u001b[0;32m~/opt/anaconda3/lib/python3.9/site-packages/pandas/core/apply.py\u001b[0m in \u001b[0;36mapply\u001b[0;34m(self)\u001b[0m\n\u001b[1;32m    686\u001b[0m             \u001b[0;32mreturn\u001b[0m \u001b[0mself\u001b[0m\u001b[0;34m.\u001b[0m\u001b[0mapply_raw\u001b[0m\u001b[0;34m(\u001b[0m\u001b[0;34m)\u001b[0m\u001b[0;34m\u001b[0m\u001b[0;34m\u001b[0m\u001b[0m\n\u001b[1;32m    687\u001b[0m \u001b[0;34m\u001b[0m\u001b[0m\n\u001b[0;32m--> 688\u001b[0;31m         \u001b[0;32mreturn\u001b[0m \u001b[0mself\u001b[0m\u001b[0;34m.\u001b[0m\u001b[0mapply_standard\u001b[0m\u001b[0;34m(\u001b[0m\u001b[0;34m)\u001b[0m\u001b[0;34m\u001b[0m\u001b[0;34m\u001b[0m\u001b[0m\n\u001b[0m\u001b[1;32m    689\u001b[0m \u001b[0;34m\u001b[0m\u001b[0m\n\u001b[1;32m    690\u001b[0m     \u001b[0;32mdef\u001b[0m \u001b[0magg\u001b[0m\u001b[0;34m(\u001b[0m\u001b[0mself\u001b[0m\u001b[0;34m)\u001b[0m\u001b[0;34m:\u001b[0m\u001b[0;34m\u001b[0m\u001b[0;34m\u001b[0m\u001b[0m\n",
      "\u001b[0;32m~/opt/anaconda3/lib/python3.9/site-packages/pandas/core/apply.py\u001b[0m in \u001b[0;36mapply_standard\u001b[0;34m(self)\u001b[0m\n\u001b[1;32m    810\u001b[0m \u001b[0;34m\u001b[0m\u001b[0m\n\u001b[1;32m    811\u001b[0m     \u001b[0;32mdef\u001b[0m \u001b[0mapply_standard\u001b[0m\u001b[0;34m(\u001b[0m\u001b[0mself\u001b[0m\u001b[0;34m)\u001b[0m\u001b[0;34m:\u001b[0m\u001b[0;34m\u001b[0m\u001b[0;34m\u001b[0m\u001b[0m\n\u001b[0;32m--> 812\u001b[0;31m         \u001b[0mresults\u001b[0m\u001b[0;34m,\u001b[0m \u001b[0mres_index\u001b[0m \u001b[0;34m=\u001b[0m \u001b[0mself\u001b[0m\u001b[0;34m.\u001b[0m\u001b[0mapply_series_generator\u001b[0m\u001b[0;34m(\u001b[0m\u001b[0;34m)\u001b[0m\u001b[0;34m\u001b[0m\u001b[0;34m\u001b[0m\u001b[0m\n\u001b[0m\u001b[1;32m    813\u001b[0m \u001b[0;34m\u001b[0m\u001b[0m\n\u001b[1;32m    814\u001b[0m         \u001b[0;31m# wrap results\u001b[0m\u001b[0;34m\u001b[0m\u001b[0;34m\u001b[0m\u001b[0m\n",
      "\u001b[0;32m~/opt/anaconda3/lib/python3.9/site-packages/pandas/core/apply.py\u001b[0m in \u001b[0;36mapply_series_generator\u001b[0;34m(self)\u001b[0m\n\u001b[1;32m    826\u001b[0m             \u001b[0;32mfor\u001b[0m \u001b[0mi\u001b[0m\u001b[0;34m,\u001b[0m \u001b[0mv\u001b[0m \u001b[0;32min\u001b[0m \u001b[0menumerate\u001b[0m\u001b[0;34m(\u001b[0m\u001b[0mseries_gen\u001b[0m\u001b[0;34m)\u001b[0m\u001b[0;34m:\u001b[0m\u001b[0;34m\u001b[0m\u001b[0;34m\u001b[0m\u001b[0m\n\u001b[1;32m    827\u001b[0m                 \u001b[0;31m# ignore SettingWithCopy here in case the user mutates\u001b[0m\u001b[0;34m\u001b[0m\u001b[0;34m\u001b[0m\u001b[0m\n\u001b[0;32m--> 828\u001b[0;31m                 \u001b[0mresults\u001b[0m\u001b[0;34m[\u001b[0m\u001b[0mi\u001b[0m\u001b[0;34m]\u001b[0m \u001b[0;34m=\u001b[0m \u001b[0mself\u001b[0m\u001b[0;34m.\u001b[0m\u001b[0mf\u001b[0m\u001b[0;34m(\u001b[0m\u001b[0mv\u001b[0m\u001b[0;34m)\u001b[0m\u001b[0;34m\u001b[0m\u001b[0;34m\u001b[0m\u001b[0m\n\u001b[0m\u001b[1;32m    829\u001b[0m                 \u001b[0;32mif\u001b[0m \u001b[0misinstance\u001b[0m\u001b[0;34m(\u001b[0m\u001b[0mresults\u001b[0m\u001b[0;34m[\u001b[0m\u001b[0mi\u001b[0m\u001b[0;34m]\u001b[0m\u001b[0;34m,\u001b[0m \u001b[0mABCSeries\u001b[0m\u001b[0;34m)\u001b[0m\u001b[0;34m:\u001b[0m\u001b[0;34m\u001b[0m\u001b[0;34m\u001b[0m\u001b[0m\n\u001b[1;32m    830\u001b[0m                     \u001b[0;31m# If we have a view on v, we need to make a copy because\u001b[0m\u001b[0;34m\u001b[0m\u001b[0;34m\u001b[0m\u001b[0m\n",
      "\u001b[0;32m/var/folders/zv/mdzh5_vd2dx1b8z8y90p6xtm0000gn/T/ipykernel_24973/505272985.py\u001b[0m in \u001b[0;36m<lambda>\u001b[0;34m(x)\u001b[0m\n\u001b[1;32m      6\u001b[0m \u001b[0;32mfrom\u001b[0m \u001b[0mdatetime\u001b[0m \u001b[0;32mimport\u001b[0m \u001b[0mdatetime\u001b[0m\u001b[0;34m\u001b[0m\u001b[0;34m\u001b[0m\u001b[0m\n\u001b[1;32m      7\u001b[0m \u001b[0;31m# convert string to date\u001b[0m\u001b[0;34m\u001b[0m\u001b[0;34m\u001b[0m\u001b[0m\n\u001b[0;32m----> 8\u001b[0;31m \u001b[0mdata_train\u001b[0m\u001b[0;34m.\u001b[0m\u001b[0mcreate_time_ts\u001b[0m \u001b[0;34m=\u001b[0m \u001b[0mdata_train\u001b[0m\u001b[0;34m.\u001b[0m\u001b[0mapply\u001b[0m\u001b[0;34m(\u001b[0m\u001b[0;32mlambda\u001b[0m \u001b[0mx\u001b[0m\u001b[0;34m:\u001b[0m \u001b[0mdatetime\u001b[0m\u001b[0;34m.\u001b[0m\u001b[0mstrptime\u001b[0m\u001b[0;34m(\u001b[0m\u001b[0mx\u001b[0m\u001b[0;34m.\u001b[0m\u001b[0mcreate_time\u001b[0m\u001b[0;34m[\u001b[0m\u001b[0;34m:\u001b[0m\u001b[0;36m19\u001b[0m\u001b[0;34m]\u001b[0m\u001b[0;34m,\u001b[0m \u001b[0;34m'%Y-%m-%d %H:%M:%S'\u001b[0m\u001b[0;34m)\u001b[0m\u001b[0;34m,\u001b[0m \u001b[0maxis\u001b[0m\u001b[0;34m=\u001b[0m\u001b[0;36m1\u001b[0m\u001b[0;34m)\u001b[0m\u001b[0;34m\u001b[0m\u001b[0;34m\u001b[0m\u001b[0m\n\u001b[0m\u001b[1;32m      9\u001b[0m \u001b[0mdata_test\u001b[0m\u001b[0;34m.\u001b[0m\u001b[0mcreate_time_ts\u001b[0m \u001b[0;34m=\u001b[0m \u001b[0mdata_test\u001b[0m\u001b[0;34m.\u001b[0m\u001b[0mapply\u001b[0m\u001b[0;34m(\u001b[0m\u001b[0;32mlambda\u001b[0m \u001b[0mx\u001b[0m\u001b[0;34m:\u001b[0m \u001b[0mdatetime\u001b[0m\u001b[0;34m.\u001b[0m\u001b[0mstrptime\u001b[0m\u001b[0;34m(\u001b[0m\u001b[0mx\u001b[0m\u001b[0;34m.\u001b[0m\u001b[0mcreate_time\u001b[0m\u001b[0;34m[\u001b[0m\u001b[0;34m:\u001b[0m\u001b[0;36m19\u001b[0m\u001b[0;34m]\u001b[0m\u001b[0;34m,\u001b[0m \u001b[0;34m'%Y-%m-%d %H:%M:%S'\u001b[0m\u001b[0;34m)\u001b[0m\u001b[0;34m,\u001b[0m \u001b[0maxis\u001b[0m\u001b[0;34m=\u001b[0m\u001b[0;36m1\u001b[0m\u001b[0;34m)\u001b[0m\u001b[0;34m\u001b[0m\u001b[0;34m\u001b[0m\u001b[0m\n\u001b[1;32m     10\u001b[0m \u001b[0;34m\u001b[0m\u001b[0m\n",
      "\u001b[0;32m~/opt/anaconda3/lib/python3.9/site-packages/pandas/core/generic.py\u001b[0m in \u001b[0;36m__getattr__\u001b[0;34m(self, name)\u001b[0m\n\u001b[1;32m   5485\u001b[0m         ):\n\u001b[1;32m   5486\u001b[0m             \u001b[0;32mreturn\u001b[0m \u001b[0mself\u001b[0m\u001b[0;34m[\u001b[0m\u001b[0mname\u001b[0m\u001b[0;34m]\u001b[0m\u001b[0;34m\u001b[0m\u001b[0;34m\u001b[0m\u001b[0m\n\u001b[0;32m-> 5487\u001b[0;31m         \u001b[0;32mreturn\u001b[0m \u001b[0mobject\u001b[0m\u001b[0;34m.\u001b[0m\u001b[0m__getattribute__\u001b[0m\u001b[0;34m(\u001b[0m\u001b[0mself\u001b[0m\u001b[0;34m,\u001b[0m \u001b[0mname\u001b[0m\u001b[0;34m)\u001b[0m\u001b[0;34m\u001b[0m\u001b[0;34m\u001b[0m\u001b[0m\n\u001b[0m\u001b[1;32m   5488\u001b[0m \u001b[0;34m\u001b[0m\u001b[0m\n\u001b[1;32m   5489\u001b[0m     \u001b[0;32mdef\u001b[0m \u001b[0m__setattr__\u001b[0m\u001b[0;34m(\u001b[0m\u001b[0mself\u001b[0m\u001b[0;34m,\u001b[0m \u001b[0mname\u001b[0m\u001b[0;34m:\u001b[0m \u001b[0mstr\u001b[0m\u001b[0;34m,\u001b[0m \u001b[0mvalue\u001b[0m\u001b[0;34m)\u001b[0m \u001b[0;34m->\u001b[0m \u001b[0;32mNone\u001b[0m\u001b[0;34m:\u001b[0m\u001b[0;34m\u001b[0m\u001b[0;34m\u001b[0m\u001b[0m\n",
      "\u001b[0;31mAttributeError\u001b[0m: 'Series' object has no attribute 'create_time'"
     ]
    }
   ],
   "source": [
    "data_train[\"create_time_ts\"] = None\n",
    "data_test[\"create_time_ts\"] = None\n",
    "data_train[\"model_create_time_ts\"] = None\n",
    "data_test[\"model_create_time_ts\"] = None\n",
    "\n",
    "from datetime import datetime\n",
    "# convert string to date\n",
    "data_train.create_time_ts = data_train.apply(lambda x: datetime.strptime(x.create_time[:19], '%Y-%m-%d %H:%M:%S'), axis=1)\n",
    "data_test.create_time_ts = data_test.apply(lambda x: datetime.strptime(x.create_time[:19], '%Y-%m-%d %H:%M:%S'), axis=1)\n",
    "\n",
    "data_train.loc[~data_train.model_create_time.isna(), \"model_create_time_ts\"] = data_train.loc[~data_train.model_create_time.isna()].apply(lambda x: datetime.strptime(x.model_create_time[:19], '%Y-%m-%d %H:%M:%S'), axis=1)\n",
    "data_test.loc[~data_test.model_create_time.isna(), \"model_create_time_ts\"] = data_test.loc[~data_test.model_create_time.isna()].apply(lambda x: datetime.strptime(x.model_create_time[:19], '%Y-%m-%d %H:%M:%S'), axis=1)"
   ]
  },
  {
   "cell_type": "code",
   "execution_count": 4,
   "id": "93046d0e-248e-486e-9459-4c246e5317f8",
   "metadata": {},
   "outputs": [],
   "source": [
    "del data_train[\"create_time\"]\n",
    "del data_train[\"model_create_time\"]\n",
    "del data_test[\"create_time\"]\n",
    "del data_test[\"model_create_time\"]"
   ]
  },
  {
   "cell_type": "code",
   "execution_count": 5,
   "id": "730eb278-94f0-468b-aedd-6de934a9e386",
   "metadata": {},
   "outputs": [],
   "source": [
    "data_train.model_create_time_ts = data_train.model_create_time_ts.fillna(data_train.create_time_ts)\n",
    "data_test.model_create_time_ts = data_test.model_create_time_ts.fillna(data_test.create_time_ts)"
   ]
  },
  {
   "cell_type": "code",
   "execution_count": 123,
   "id": "751e965d-8d1d-4ac9-ba1f-96100ae1aa82",
   "metadata": {},
   "outputs": [
    {
     "name": "stdout",
     "output_type": "stream",
     "text": [
      "Рейтинг товаров, по которым позвонили:  1.5399876007439555 , по которым не звонили 1.4771690174232548\n"
     ]
    }
   ],
   "source": [
    "print(\"Рейтинг товаров, по которым позвонили: \", data_train[data_train[\"is_callcenter\"] == 1][\"rating_value\"].mean(), \n",
    "      \", по которым не звонили\", data_train[data_train[\"is_callcenter\"] == 0][\"rating_value\"].mean())"
   ]
  },
  {
   "cell_type": "code",
   "execution_count": 124,
   "id": "e8b5973a-4fc4-4194-a700-b3b3856ca550",
   "metadata": {},
   "outputs": [
    {
     "name": "stdout",
     "output_type": "stream",
     "text": [
      "Длина описания товаров, по которым позвонили:  572.92983638373 , по которым не звонили 573.338671921299\n"
     ]
    }
   ],
   "source": [
    "print(\"Длина описания товаров, по которым позвонили: \", data_train[data_train[\"is_callcenter\"] == 1][\"description_length\"].mean(), \n",
    "      \", по которым не звонили\", data_train[data_train[\"is_callcenter\"] == 0][\"description_length\"].mean())"
   ]
  },
  {
   "cell_type": "code",
   "execution_count": 125,
   "id": "6030382d-fbfa-4a1a-a9a8-2cf47fed3378",
   "metadata": {},
   "outputs": [
    {
     "name": "stdout",
     "output_type": "stream",
     "text": [
      "Представителей 0 класса: 67496, 1 класса: 37099\n"
     ]
    }
   ],
   "source": [
    "print(\"Представителей 0 класса: 67496, 1 класса: 37099\")"
   ]
  },
  {
   "cell_type": "code",
   "execution_count": 15,
   "id": "75bde252-69e2-4b60-8067-b04c69c9a2b1",
   "metadata": {},
   "outputs": [],
   "source": [
    "A = data_train.groupby(['root_id'])['is_callcenter'].sum().sort_values()\n",
    "B = data_train.groupby(['root_id'])['is_callcenter'].count().sort_values()\n",
    "C = A.divide(B).sort_values()\n",
    "\n",
    "order_id = list(data_train[\"order_id\"].unique())\n",
    "new_column = list()\n",
    "for order in order_id:\n",
    "    root = list(data_train[data_train[\"order_id\"] == order][\"root_id\"].values)[0]\n",
    "    new_column.append(C[root])\n",
    "new_column_test = list()\n",
    "for order in list(data_test[\"order_id\"].unique()):\n",
    "    root = list(data_test[data_test[\"order_id\"] == order][\"root_id\"].values)[0]\n",
    "    new_column_test.append(C[root])\n",
    "data_train['root_mean_call'] = new_column\n",
    "data_test['root_mean_call'] = new_column_test"
   ]
  },
  {
   "cell_type": "code",
   "execution_count": 666,
   "id": "159f5f22-3f90-44f9-ba91-1a1d76ee471a",
   "metadata": {},
   "outputs": [],
   "source": [
    "new_column = list()\n",
    "for order in range(data_train.shape[0]):\n",
    "    hour = data_train[\"create_time_ts\"][order].time().hour * 60 + data_train[\"create_time_ts\"][order].time().minute\n",
    "    new_column.append(hour)\n",
    "data_train['hour'] = new_column\n",
    "new_column = list()\n",
    "for order in range(data_test.shape[0]):\n",
    "    hour = data_train[\"create_time_ts\"][order].time().hour * 60 + data_train[\"create_time_ts\"][order].time().minute\n",
    "    new_column.append(hour)\n",
    "data_test['hour'] = new_column"
   ]
  },
  {
   "cell_type": "code",
   "execution_count": 54,
   "id": "ac444839-578e-4b77-ae7c-a06c59633d39",
   "metadata": {},
   "outputs": [],
   "source": [
    "data_train[\"utm_source\"].fillna(0, inplace=True)\n",
    "data_test[\"utm_source\"].fillna(0, inplace=True)"
   ]
  },
  {
   "cell_type": "code",
   "execution_count": 66,
   "id": "118e5be9-bfc0-4ac9-b0fa-24b63094943f",
   "metadata": {},
   "outputs": [],
   "source": [
    "data_train[\"rating_value\"].fillna(0, inplace=True)\n",
    "data_test[\"rating_value\"].fillna(0, inplace=True)"
   ]
  },
  {
   "cell_type": "code",
   "execution_count": 75,
   "id": "4e2d912b-6d17-4df8-83fe-9d86a2ffd080",
   "metadata": {},
   "outputs": [],
   "source": [
    "data_train[\"rating_count\"].fillna(0, inplace=True)\n",
    "data_test[\"rating_count\"].fillna(0, inplace=True)"
   ]
  },
  {
   "cell_type": "code",
   "execution_count": 149,
   "id": "93311a03-7cb6-4abf-acfc-89885e2db90e",
   "metadata": {},
   "outputs": [],
   "source": [
    "new_column = list()\n",
    "for order in range(data_train.shape[0]):\n",
    "    day = data_train[\"create_time_ts\"][order].date().weekday()\n",
    "    new_column.append(day)\n",
    "data_train['day_of_week'] = new_column\n",
    "new_column = list()\n",
    "for order in range(data_test.shape[0]):\n",
    "    day = data_test[\"create_time_ts\"][order].date().weekday()\n",
    "    new_column.append(day)\n",
    "data_test['day_of_week'] = new_column"
   ]
  },
  {
   "cell_type": "code",
   "execution_count": 654,
   "id": "6c60db20-3ae8-4b8e-91d2-046738c9657e",
   "metadata": {},
   "outputs": [],
   "source": [
    "new_column = list()\n",
    "for order in range(data_train.shape[0]):\n",
    "    day = data_train[\"create_time_ts\"][order].date().month\n",
    "    new_column.append(day)\n",
    "data_train['month'] = new_column\n",
    "new_column = list()\n",
    "for order in range(data_test.shape[0]):\n",
    "    day = data_test[\"create_time_ts\"][order].date().month\n",
    "    new_column.append(day)\n",
    "data_test['month'] = new_column"
   ]
  },
  {
   "cell_type": "code",
   "execution_count": 1199,
   "id": "e6b9dbfb-8898-4dc5-9502-f11bb3df1354",
   "metadata": {},
   "outputs": [],
   "source": [
    "new_column = list()\n",
    "for order in range(data_train.shape[0]):\n",
    "    day = data_train[\"create_time_ts\"][order].date().day\n",
    "    new_column.append(day)\n",
    "data_train['day'] = new_column\n",
    "new_column = list()\n",
    "for order in range(data_test.shape[0]):\n",
    "    day = data_test[\"create_time_ts\"][order].date().day\n",
    "    new_column.append(day)\n",
    "data_test['day'] = new_column"
   ]
  },
  {
   "cell_type": "code",
   "execution_count": 164,
   "id": "bbf2d249-0337-4ef2-be99-d0c0652f0cf7",
   "metadata": {},
   "outputs": [],
   "source": [
    "data_train[\"life_time\"] = (data_train.create_time_ts - data_train.model_create_time_ts).astype('timedelta64[D]')\n",
    "data_test[\"life_time\"] = (data_test.create_time_ts - data_test.model_create_time_ts).astype('timedelta64[D]')"
   ]
  },
  {
   "cell_type": "code",
   "execution_count": 203,
   "id": "18703112-fa40-4652-bb7d-c573b28c1fd2",
   "metadata": {},
   "outputs": [],
   "source": [
    "new_column = list()\n",
    "for num in range(data_train.shape[0]):\n",
    "    sess_key = data_train[\"sessionkey_id\"][num]\n",
    "    max_time = data_webstat[data_webstat[\"sessionkey_id\"] == sess_key][\"pageview_duration_sec\"].max()\n",
    "    new_column.append(max_time)\n",
    "data_train['max_time_in_page'] = new_column\n",
    "new_column = list()\n",
    "for num in range(data_test.shape[0]):\n",
    "    sess_key = data_test[\"sessionkey_id\"][num]\n",
    "    max_time = data_webstat[data_webstat[\"sessionkey_id\"] == sess_key][\"pageview_duration_sec\"].max()\n",
    "    new_column.append(max_time)\n",
    "data_test['max_time_in_page'] = new_column"
   ]
  },
  {
   "cell_type": "code",
   "execution_count": null,
   "id": "7cc7081a-cfba-44f7-b545-99a2bfbc40c2",
   "metadata": {},
   "outputs": [],
   "source": []
  },
  {
   "cell_type": "code",
   "execution_count": null,
   "id": "e82d8b6a-c3e1-43e0-891c-74a0252ee190",
   "metadata": {},
   "outputs": [],
   "source": [
    "data_train[\"max_time_in_page\"].fillna(-1, inplace=True)\n",
    "data_test[\"max_time_in_page\"].fillna(-1, inplace=True)"
   ]
  },
  {
   "cell_type": "code",
   "execution_count": 263,
   "id": "587202d4-a084-464f-ae46-0f07a4234bdf",
   "metadata": {},
   "outputs": [],
   "source": [
    "new_column = list()\n",
    "for num in range(data_train.shape[0]):\n",
    "    sess_key = data_train[\"sessionkey_id\"][num]\n",
    "    count_page = data_webstat[data_webstat[\"sessionkey_id\"] == sess_key].shape[0]\n",
    "    new_column.append(count_page)\n",
    "data_train['count_page'] = new_column\n",
    "new_column = list()\n",
    "for num in range(data_test.shape[0]):\n",
    "    sess_key = data_test[\"sessionkey_id\"][num]\n",
    "    count_page = data_webstat[data_webstat[\"sessionkey_id\"] == sess_key].shape[0]\n",
    "    new_column.append(count_page)\n",
    "data_test['count_page'] = new_column"
   ]
  },
  {
   "cell_type": "code",
   "execution_count": 264,
   "id": "410a1537-6c12-4d44-a12b-863180078f01",
   "metadata": {},
   "outputs": [],
   "source": [
    "data_train[\"count_page\"].fillna(0, inplace=True)\n",
    "data_test[\"count_page\"].fillna(0, inplace=True)"
   ]
  },
  {
   "cell_type": "code",
   "execution_count": 229,
   "id": "0083ca3b-875a-4a2d-a105-a6dd2f10eebc",
   "metadata": {},
   "outputs": [],
   "source": [
    "new_column = list()\n",
    "for num in range(data_train.shape[0]):\n",
    "    sess_key = data_train[\"sessionkey_id\"][num]\n",
    "    count_page = data_webstat[data_webstat[\"sessionkey_id\"] == sess_key][\"pageview_duration_sec\"].sum()\n",
    "    new_column.append(count_page)\n",
    "data_train['sum_time_page'] = new_column\n",
    "new_column = list()\n",
    "for num in range(data_test.shape[0]):\n",
    "    sess_key = data_test[\"sessionkey_id\"][num]\n",
    "    count_page = data_webstat[data_webstat[\"sessionkey_id\"] == sess_key][\"pageview_duration_sec\"].sum()\n",
    "    new_column.append(count_page)\n",
    "data_test['sum_time_page'] = new_column"
   ]
  },
  {
   "cell_type": "code",
   "execution_count": 230,
   "id": "2525fdd7-ce29-4fdf-bba2-be4067085a15",
   "metadata": {},
   "outputs": [],
   "source": [
    "data_train[\"sum_time_page\"].fillna(0, inplace=True)\n",
    "data_test[\"sum_time_page\"].fillna(0, inplace=True)"
   ]
  },
  {
   "cell_type": "code",
   "execution_count": 244,
   "id": "f2cbd9ef-22e5-434b-a9d5-4a2719db6ec2",
   "metadata": {},
   "outputs": [],
   "source": [
    "new_column = list()\n",
    "for num in range(data_train.shape[0]):\n",
    "    sess_key = data_train[\"sessionkey_id\"][num]\n",
    "    count_page = data_webstat[data_webstat[\"sessionkey_id\"] == sess_key][\"pageview_duration_sec\"].mean()\n",
    "    new_column.append(count_page)\n",
    "data_train['mean_time_page'] = new_column\n",
    "new_column = list()\n",
    "for num in range(data_test.shape[0]):\n",
    "    sess_key = data_test[\"sessionkey_id\"][num]\n",
    "    count_page = data_webstat[data_webstat[\"sessionkey_id\"] == sess_key][\"pageview_duration_sec\"].mean()\n",
    "    new_column.append(count_page)\n",
    "data_test['mean_time_page'] = new_column"
   ]
  },
  {
   "cell_type": "code",
   "execution_count": 245,
   "id": "61a2c263-e4a1-492c-a430-1cd1e3e13fe1",
   "metadata": {},
   "outputs": [],
   "source": [
    "data_train[\"mean_time_page\"].fillna(0, inplace=True)\n",
    "data_test[\"mean_time_page\"].fillna(0, inplace=True)"
   ]
  },
  {
   "cell_type": "code",
   "execution_count": 333,
   "id": "5162c899-107a-4daa-bc38-1df47b40ab92",
   "metadata": {},
   "outputs": [
    {
     "data": {
      "text/plain": [
       "array([ 2,  5,  1,  7,  3,  4,  6,  9,  8, 10, 12, 13, 11])"
      ]
     },
     "execution_count": 333,
     "metadata": {},
     "output_type": "execute_result"
    }
   ],
   "source": [
    "data_webstat[\"page_type\"].unique()"
   ]
  },
  {
   "cell_type": "code",
   "execution_count": 319,
   "id": "9a41024e-5680-4373-b82d-3b31e20486f7",
   "metadata": {},
   "outputs": [],
   "source": [
    "DATA = data_webstat[data_webstat[\"page_type\"] == 1]\n",
    "new_column = list()\n",
    "for num in range(data_train.shape[0]):\n",
    "    sess_key = data_train[\"sessionkey_id\"][num]\n",
    "    count_page = DATA[DATA[\"sessionkey_id\"] == sess_key].shape[0]\n",
    "    new_column.append(count_page)\n",
    "data_train['count_webpage_1'] = new_column\n",
    "new_column = list()\n",
    "for num in range(data_test.shape[0]):\n",
    "    sess_key = data_test[\"sessionkey_id\"][num]\n",
    "    count_page = DATA[DATA[\"sessionkey_id\"] == sess_key].shape[0]\n",
    "    new_column.append(count_page)\n",
    "data_test['count_webpage_1'] = new_column"
   ]
  },
  {
   "cell_type": "code",
   "execution_count": 320,
   "id": "053b6018-30f0-431a-9235-3bd46a8227dc",
   "metadata": {},
   "outputs": [],
   "source": [
    "data_train[\"count_webpage_1\"].fillna(0, inplace=True)\n",
    "data_test[\"count_webpage_1\"].fillna(0, inplace=True)"
   ]
  },
  {
   "cell_type": "code",
   "execution_count": 334,
   "id": "07f093ec-95c8-407f-827a-bdb5dc304fe7",
   "metadata": {},
   "outputs": [],
   "source": [
    "DATA = data_webstat[data_webstat[\"page_type\"] == 2]\n",
    "new_column = list()\n",
    "for num in range(data_train.shape[0]):\n",
    "    sess_key = data_train[\"sessionkey_id\"][num]\n",
    "    count_page = DATA[DATA[\"sessionkey_id\"] == sess_key].shape[0]\n",
    "    new_column.append(count_page)\n",
    "data_train['count_webpage_2'] = new_column\n",
    "new_column = list()\n",
    "for num in range(data_test.shape[0]):\n",
    "    sess_key = data_test[\"sessionkey_id\"][num]\n",
    "    count_page = DATA[DATA[\"sessionkey_id\"] == sess_key].shape[0]\n",
    "    new_column.append(count_page)\n",
    "data_test['count_webpage_2'] = new_column"
   ]
  },
  {
   "cell_type": "code",
   "execution_count": 335,
   "id": "93a8c1f2-57ed-472a-9d61-7254953e1667",
   "metadata": {},
   "outputs": [],
   "source": [
    "data_train[\"count_webpage_2\"].fillna(0, inplace=True)\n",
    "data_test[\"count_webpage_2\"].fillna(0, inplace=True)"
   ]
  },
  {
   "cell_type": "code",
   "execution_count": 344,
   "id": "5996974f-4748-4403-aac7-c6d9f9f6f26b",
   "metadata": {},
   "outputs": [],
   "source": [
    "DATA = data_webstat[data_webstat[\"page_type\"] == 3]\n",
    "new_column = list()\n",
    "for num in range(data_train.shape[0]):\n",
    "    sess_key = data_train[\"sessionkey_id\"][num]\n",
    "    count_page = DATA[DATA[\"sessionkey_id\"] == sess_key].shape[0]\n",
    "    new_column.append(count_page)\n",
    "data_train['count_webpage_3'] = new_column\n",
    "new_column = list()\n",
    "for num in range(data_test.shape[0]):\n",
    "    sess_key = data_test[\"sessionkey_id\"][num]\n",
    "    count_page = DATA[DATA[\"sessionkey_id\"] == sess_key].shape[0]\n",
    "    new_column.append(count_page)\n",
    "data_test['count_webpage_3'] = new_column"
   ]
  },
  {
   "cell_type": "code",
   "execution_count": 345,
   "id": "553d19cc-f7a1-46ce-ba11-af6d02205e6c",
   "metadata": {},
   "outputs": [],
   "source": [
    "data_train[\"count_webpage_3\"].fillna(0, inplace=True)\n",
    "data_test[\"count_webpage_3\"].fillna(0, inplace=True)"
   ]
  },
  {
   "cell_type": "code",
   "execution_count": 358,
   "id": "f550e4c8-faf8-4c2b-862f-d21fc410d1c5",
   "metadata": {},
   "outputs": [],
   "source": [
    "DATA = data_webstat[data_webstat[\"page_type\"] == 4]\n",
    "new_column = list()\n",
    "for num in range(data_train.shape[0]):\n",
    "    sess_key = data_train[\"sessionkey_id\"][num]\n",
    "    count_page = DATA[DATA[\"sessionkey_id\"] == sess_key].shape[0]\n",
    "    new_column.append(count_page)\n",
    "data_train['count_webpage_4'] = new_column\n",
    "new_column = list()\n",
    "for num in range(data_test.shape[0]):\n",
    "    sess_key = data_test[\"sessionkey_id\"][num]\n",
    "    count_page = DATA[DATA[\"sessionkey_id\"] == sess_key].shape[0]\n",
    "    new_column.append(count_page)\n",
    "data_test['count_webpage_4'] = new_column"
   ]
  },
  {
   "cell_type": "code",
   "execution_count": 359,
   "id": "865f069f-c01b-42e6-bde9-628e9a8bdcd1",
   "metadata": {},
   "outputs": [],
   "source": [
    "data_train[\"count_webpage_4\"].fillna(0, inplace=True)\n",
    "data_test[\"count_webpage_4\"].fillna(0, inplace=True)"
   ]
  },
  {
   "cell_type": "code",
   "execution_count": 368,
   "id": "e50d5699-0b74-4ec0-b937-68cefa0d9d83",
   "metadata": {},
   "outputs": [],
   "source": [
    "DATA = data_webstat[data_webstat[\"page_type\"] == 5]\n",
    "new_column = list()\n",
    "for num in range(data_train.shape[0]):\n",
    "    sess_key = data_train[\"sessionkey_id\"][num]\n",
    "    count_page = DATA[DATA[\"sessionkey_id\"] == sess_key].shape[0]\n",
    "    new_column.append(count_page)\n",
    "data_train['count_webpage_5'] = new_column\n",
    "new_column = list()\n",
    "for num in range(data_test.shape[0]):\n",
    "    sess_key = data_test[\"sessionkey_id\"][num]\n",
    "    count_page = DATA[DATA[\"sessionkey_id\"] == sess_key].shape[0]\n",
    "    new_column.append(count_page)\n",
    "data_test['count_webpage_5'] = new_column"
   ]
  },
  {
   "cell_type": "code",
   "execution_count": 369,
   "id": "3af2a4ee-a9e3-487f-89ef-10cf83ab538e",
   "metadata": {},
   "outputs": [],
   "source": [
    "data_train[\"count_webpage_5\"].fillna(0, inplace=True)\n",
    "data_test[\"count_webpage_5\"].fillna(0, inplace=True)"
   ]
  },
  {
   "cell_type": "code",
   "execution_count": 378,
   "id": "5d1d3508-76b1-4f7d-8913-c78a8c800282",
   "metadata": {},
   "outputs": [],
   "source": [
    "DATA = data_webstat[data_webstat[\"page_type\"] == 13]\n",
    "new_column = list()\n",
    "for num in range(data_train.shape[0]):\n",
    "    sess_key = data_train[\"sessionkey_id\"][num]\n",
    "    count_page = DATA[DATA[\"sessionkey_id\"] == sess_key].shape[0]\n",
    "    new_column.append(count_page)\n",
    "data_train['count_webpage_13'] = new_column\n",
    "new_column = list()\n",
    "for num in range(data_test.shape[0]):\n",
    "    sess_key = data_test[\"sessionkey_id\"][num]\n",
    "    count_page = DATA[DATA[\"sessionkey_id\"] == sess_key].shape[0]\n",
    "    new_column.append(count_page)\n",
    "data_test['count_webpage_13'] = new_column"
   ]
  },
  {
   "cell_type": "code",
   "execution_count": 379,
   "id": "d3e739e2-f893-4a17-8aae-c6d0c1523db4",
   "metadata": {},
   "outputs": [],
   "source": [
    "data_train[\"count_webpage_13\"].fillna(0, inplace=True)\n",
    "data_test[\"count_webpage_13\"].fillna(0, inplace=True)"
   ]
  },
  {
   "cell_type": "code",
   "execution_count": 407,
   "id": "dcc73017-ed78-4ee5-85a0-c9ff63155f2a",
   "metadata": {},
   "outputs": [],
   "source": [
    "DATA = data_webstat[data_webstat[\"page_type\"] == 6]\n",
    "new_column = list()\n",
    "for num in range(data_train.shape[0]):\n",
    "    sess_key = data_train[\"sessionkey_id\"][num]\n",
    "    count_page = DATA[DATA[\"sessionkey_id\"] == sess_key].shape[0]\n",
    "    new_column.append(count_page)\n",
    "data_train['count_webpage_6'] = new_column\n",
    "new_column = list()\n",
    "for num in range(data_test.shape[0]):\n",
    "    sess_key = data_test[\"sessionkey_id\"][num]\n",
    "    count_page = DATA[DATA[\"sessionkey_id\"] == sess_key].shape[0]\n",
    "    new_column.append(count_page)\n",
    "data_test['count_webpage_6'] = new_column"
   ]
  },
  {
   "cell_type": "code",
   "execution_count": 408,
   "id": "b71862b4-7154-4008-8f07-8659a1b8dbb0",
   "metadata": {},
   "outputs": [],
   "source": [
    "data_train[\"count_webpage_6\"].fillna(0, inplace=True)\n",
    "data_test[\"count_webpage_6\"].fillna(0, inplace=True)"
   ]
  },
  {
   "cell_type": "code",
   "execution_count": 431,
   "id": "39b89575-57c7-44bb-9284-ac9db8f8ddf4",
   "metadata": {},
   "outputs": [],
   "source": [
    "DATA = data_webstat[data_webstat[\"page_type\"] == 7]\n",
    "new_column = list()\n",
    "for num in range(data_train.shape[0]):\n",
    "    sess_key = data_train[\"sessionkey_id\"][num]\n",
    "    count_page = DATA[DATA[\"sessionkey_id\"] == sess_key].shape[0]\n",
    "    new_column.append(count_page)\n",
    "data_train['count_webpage_7'] = new_column\n",
    "new_column = list()\n",
    "for num in range(data_test.shape[0]):\n",
    "    sess_key = data_test[\"sessionkey_id\"][num]\n",
    "    count_page = DATA[DATA[\"sessionkey_id\"] == sess_key].shape[0]\n",
    "    new_column.append(count_page)\n",
    "data_test['count_webpage_7'] = new_column\n",
    "data_train[\"count_webpage_7\"].fillna(0, inplace=True)\n",
    "data_test[\"count_webpage_7\"].fillna(0, inplace=True)"
   ]
  },
  {
   "cell_type": "code",
   "execution_count": 455,
   "id": "7b389c22-b14e-4f4f-b42f-cb35179aea1c",
   "metadata": {},
   "outputs": [],
   "source": [
    "DATA = data_webstat[data_webstat[\"page_type\"] == 8]\n",
    "new_column = list()\n",
    "for num in range(data_train.shape[0]):\n",
    "    sess_key = data_train[\"sessionkey_id\"][num]\n",
    "    count_page = DATA[DATA[\"sessionkey_id\"] == sess_key].shape[0]\n",
    "    new_column.append(count_page)\n",
    "data_train['count_webpage_8'] = new_column\n",
    "new_column = list()\n",
    "for num in range(data_test.shape[0]):\n",
    "    sess_key = data_test[\"sessionkey_id\"][num]\n",
    "    count_page = DATA[DATA[\"sessionkey_id\"] == sess_key].shape[0]\n",
    "    new_column.append(count_page)\n",
    "data_test['count_webpage_8'] = new_column\n",
    "data_train[\"count_webpage_8\"].fillna(0, inplace=True)\n",
    "data_test[\"count_webpage_8\"].fillna(0, inplace=True)"
   ]
  },
  {
   "cell_type": "code",
   "execution_count": 471,
   "id": "99264b63-c554-4edb-b907-23d33f3b93a3",
   "metadata": {},
   "outputs": [],
   "source": [
    "DATA = data_webstat[data_webstat[\"page_type\"] == 9]\n",
    "new_column = list()\n",
    "for num in range(data_train.shape[0]):\n",
    "    sess_key = data_train[\"sessionkey_id\"][num]\n",
    "    count_page = DATA[DATA[\"sessionkey_id\"] == sess_key].shape[0]\n",
    "    new_column.append(count_page)\n",
    "data_train['count_webpage_9'] = new_column\n",
    "new_column = list()\n",
    "for num in range(data_test.shape[0]):\n",
    "    sess_key = data_test[\"sessionkey_id\"][num]\n",
    "    count_page = DATA[DATA[\"sessionkey_id\"] == sess_key].shape[0]\n",
    "    new_column.append(count_page)\n",
    "data_test['count_webpage_9'] = new_column\n",
    "data_train[\"count_webpage_9\"].fillna(0, inplace=True)\n",
    "data_test[\"count_webpage_9\"].fillna(0, inplace=True)"
   ]
  },
  {
   "cell_type": "code",
   "execution_count": 496,
   "id": "26da7135-e851-4518-826c-2806028f827d",
   "metadata": {},
   "outputs": [],
   "source": [
    "DATA = data_webstat[data_webstat[\"page_type\"] == 10]\n",
    "new_column = list()\n",
    "for num in range(data_train.shape[0]):\n",
    "    sess_key = data_train[\"sessionkey_id\"][num]\n",
    "    count_page = DATA[DATA[\"sessionkey_id\"] == sess_key].shape[0]\n",
    "    new_column.append(count_page)\n",
    "data_train['count_webpage_10'] = new_column\n",
    "new_column = list()\n",
    "for num in range(data_test.shape[0]):\n",
    "    sess_key = data_test[\"sessionkey_id\"][num]\n",
    "    count_page = DATA[DATA[\"sessionkey_id\"] == sess_key].shape[0]\n",
    "    new_column.append(count_page)\n",
    "data_test['count_webpage_10'] = new_column\n",
    "data_train[\"count_webpage_10\"].fillna(0, inplace=True)\n",
    "data_test[\"count_webpage_10\"].fillna(0, inplace=True)"
   ]
  },
  {
   "cell_type": "code",
   "execution_count": 505,
   "id": "f07d16b7-2ad5-44b7-b977-13911146e39f",
   "metadata": {},
   "outputs": [],
   "source": [
    "DATA = data_webstat[data_webstat[\"page_type\"] == 11]\n",
    "new_column = list()\n",
    "for num in range(data_train.shape[0]):\n",
    "    sess_key = data_train[\"sessionkey_id\"][num]\n",
    "    count_page = DATA[DATA[\"sessionkey_id\"] == sess_key].shape[0]\n",
    "    new_column.append(count_page)\n",
    "data_train['count_webpage_11'] = new_column\n",
    "new_column = list()\n",
    "for num in range(data_test.shape[0]):\n",
    "    sess_key = data_test[\"sessionkey_id\"][num]\n",
    "    count_page = DATA[DATA[\"sessionkey_id\"] == sess_key].shape[0]\n",
    "    new_column.append(count_page)\n",
    "data_test['count_webpage_11'] = new_column\n",
    "data_train[\"count_webpage_11\"].fillna(0, inplace=True)\n",
    "data_test[\"count_webpage_11\"].fillna(0, inplace=True)"
   ]
  },
  {
   "cell_type": "code",
   "execution_count": 521,
   "id": "91b6cdec-fed2-4364-a803-95c2a12c8ad3",
   "metadata": {},
   "outputs": [],
   "source": [
    "DATA = data_webstat[data_webstat[\"page_type\"] == 12]\n",
    "new_column = list()\n",
    "for num in range(data_train.shape[0]):\n",
    "    sess_key = data_train[\"sessionkey_id\"][num]\n",
    "    count_page = DATA[DATA[\"sessionkey_id\"] == sess_key].shape[0]\n",
    "    new_column.append(count_page)\n",
    "data_train['count_webpage_12'] = new_column\n",
    "new_column = list()\n",
    "for num in range(data_test.shape[0]):\n",
    "    sess_key = data_test[\"sessionkey_id\"][num]\n",
    "    count_page = DATA[DATA[\"sessionkey_id\"] == sess_key].shape[0]\n",
    "    new_column.append(count_page)\n",
    "data_test['count_webpage_12'] = new_column\n",
    "data_train[\"count_webpage_12\"].fillna(0, inplace=True)\n",
    "data_test[\"count_webpage_12\"].fillna(0, inplace=True)"
   ]
  },
  {
   "cell_type": "code",
   "execution_count": 578,
   "id": "c39871ef-fa9f-47a3-81b3-e0929347877c",
   "metadata": {},
   "outputs": [],
   "source": [
    "# new_column = list()\n",
    "# for num in range(data_train.shape[0]):\n",
    "#     sess_key = data_train[\"sessionkey_id\"][num]\n",
    "#     count_page = data_webstat[data_webstat[\"sessionkey_id\"] == sess_key].sort_values(by = \"pageview_number\", ascending = False)[\"page_type\"].iloc[0]\n",
    "#     new_column.append(count_page)\n",
    "# data_train['last_page'] = new_column\n",
    "# new_column = list()\n",
    "# for num in range(data_test.shape[0]):\n",
    "#     sess_key = data_test[\"sessionkey_id\"][num]\n",
    "#     count_page = data_webstat[data_webstat[\"sessionkey_id\"] == sess_key].sort_values(by = \"pageview_number\", ascending = False)[\"page_type\"].iloc[0]\n",
    "#     new_column.append(count_page)\n",
    "# data_test['last_page'] = new_column\n",
    "# data_train[\"last_page\"].fillna(0, inplace=True)\n",
    "# data_test[\"last_page\"].fillna(0, inplace=True)"
   ]
  },
  {
   "cell_type": "code",
   "execution_count": 681,
   "id": "ea97688c-e6dc-4f4a-a93e-b9b99b57dc84",
   "metadata": {},
   "outputs": [],
   "source": [
    "DATA = data_webstat[data_webstat[\"page_type\"] == 1]\n",
    "new_column = list()\n",
    "for num in range(data_train.shape[0]):\n",
    "    sess_key = data_train[\"sessionkey_id\"][num]\n",
    "    count_page = DATA[DATA[\"sessionkey_id\"] == sess_key][\"pageview_duration_sec\"].sum()\n",
    "    new_column.append(count_page)\n",
    "data_train['sum_min_1'] = new_column\n",
    "new_column = list()\n",
    "for num in range(data_test.shape[0]):\n",
    "    sess_key = data_test[\"sessionkey_id\"][num]\n",
    "    count_page = DATA[DATA[\"sessionkey_id\"] == sess_key][\"pageview_duration_sec\"].sum()\n",
    "    new_column.append(count_page)\n",
    "data_test['sum_min_1'] = new_column\n",
    "data_train[\"sum_min_1\"].fillna(0, inplace=True)\n",
    "data_test[\"sum_min_1\"].fillna(0, inplace=True)"
   ]
  },
  {
   "cell_type": "code",
   "execution_count": 690,
   "id": "1828d416-a22b-4e98-88c5-89c4c67942bf",
   "metadata": {},
   "outputs": [],
   "source": [
    "DATA = data_webstat[data_webstat[\"page_type\"] == 2]\n",
    "new_column = list()\n",
    "for num in range(data_train.shape[0]):\n",
    "    sess_key = data_train[\"sessionkey_id\"][num]\n",
    "    count_page = DATA[DATA[\"sessionkey_id\"] == sess_key][\"pageview_duration_sec\"].sum()\n",
    "    new_column.append(count_page)\n",
    "data_train['sum_min_2'] = new_column\n",
    "new_column = list()\n",
    "for num in range(data_test.shape[0]):\n",
    "    sess_key = data_test[\"sessionkey_id\"][num]\n",
    "    count_page = DATA[DATA[\"sessionkey_id\"] == sess_key][\"pageview_duration_sec\"].sum()\n",
    "    new_column.append(count_page)\n",
    "data_test['sum_min_2'] = new_column\n",
    "data_train[\"sum_min_2\"].fillna(0, inplace=True)\n",
    "data_test[\"sum_min_2\"].fillna(0, inplace=True)"
   ]
  },
  {
   "cell_type": "code",
   "execution_count": 700,
   "id": "68b7f211-9f38-489a-991a-2743a7329d73",
   "metadata": {},
   "outputs": [],
   "source": [
    "DATA = data_webstat[data_webstat[\"page_type\"] == 3]\n",
    "new_column = list()\n",
    "for num in range(data_train.shape[0]):\n",
    "    sess_key = data_train[\"sessionkey_id\"][num]\n",
    "    count_page = DATA[DATA[\"sessionkey_id\"] == sess_key][\"pageview_duration_sec\"].sum()\n",
    "    new_column.append(count_page)\n",
    "data_train['sum_min_3'] = new_column\n",
    "new_column = list()\n",
    "for num in range(data_test.shape[0]):\n",
    "    sess_key = data_test[\"sessionkey_id\"][num]\n",
    "    count_page = DATA[DATA[\"sessionkey_id\"] == sess_key][\"pageview_duration_sec\"].sum()\n",
    "    new_column.append(count_page)\n",
    "data_test['sum_min_3'] = new_column\n",
    "data_train[\"sum_min_3\"].fillna(0, inplace=True)\n",
    "data_test[\"sum_min_3\"].fillna(0, inplace=True)"
   ]
  },
  {
   "cell_type": "code",
   "execution_count": 724,
   "id": "a5441198-106d-4fa4-b16c-1eec24242487",
   "metadata": {},
   "outputs": [],
   "source": [
    "DATA = data_webstat[data_webstat[\"page_type\"] == 4]\n",
    "new_column = list()\n",
    "for num in range(data_train.shape[0]):\n",
    "    sess_key = data_train[\"sessionkey_id\"][num]\n",
    "    count_page = DATA[DATA[\"sessionkey_id\"] == sess_key][\"pageview_duration_sec\"].sum()\n",
    "    new_column.append(count_page)\n",
    "data_train['sum_min_4'] = new_column\n",
    "new_column = list()\n",
    "for num in range(data_test.shape[0]):\n",
    "    sess_key = data_test[\"sessionkey_id\"][num]\n",
    "    count_page = DATA[DATA[\"sessionkey_id\"] == sess_key][\"pageview_duration_sec\"].sum()\n",
    "    new_column.append(count_page)\n",
    "data_test['sum_min_4'] = new_column\n",
    "data_train[\"sum_min_4\"].fillna(0, inplace=True)\n",
    "data_test[\"sum_min_4\"].fillna(0, inplace=True)"
   ]
  },
  {
   "cell_type": "code",
   "execution_count": 733,
   "id": "f11716fd-1d07-479f-a4a6-f1a4c2ed757d",
   "metadata": {},
   "outputs": [],
   "source": [
    "DATA = data_webstat[data_webstat[\"page_type\"] == 5]\n",
    "new_column = list()\n",
    "for num in range(data_train.shape[0]):\n",
    "    sess_key = data_train[\"sessionkey_id\"][num]\n",
    "    count_page = DATA[DATA[\"sessionkey_id\"] == sess_key][\"pageview_duration_sec\"].sum()\n",
    "    new_column.append(count_page)\n",
    "data_train['sum_min_5'] = new_column\n",
    "new_column = list()\n",
    "for num in range(data_test.shape[0]):\n",
    "    sess_key = data_test[\"sessionkey_id\"][num]\n",
    "    count_page = DATA[DATA[\"sessionkey_id\"] == sess_key][\"pageview_duration_sec\"].sum()\n",
    "    new_column.append(count_page)\n",
    "data_test['sum_min_5'] = new_column\n",
    "data_train[\"sum_min_5\"].fillna(0, inplace=True)\n",
    "data_test[\"sum_min_5\"].fillna(0, inplace=True)"
   ]
  },
  {
   "cell_type": "code",
   "execution_count": 742,
   "id": "0eed3da0-8506-4e35-99ba-faf365207c32",
   "metadata": {},
   "outputs": [],
   "source": [
    "DATA = data_webstat[data_webstat[\"page_type\"] == 6]\n",
    "new_column = list()\n",
    "for num in range(data_train.shape[0]):\n",
    "    sess_key = data_train[\"sessionkey_id\"][num]\n",
    "    count_page = DATA[DATA[\"sessionkey_id\"] == sess_key][\"pageview_duration_sec\"].sum()\n",
    "    new_column.append(count_page)\n",
    "data_train['sum_min_6'] = new_column\n",
    "new_column = list()\n",
    "for num in range(data_test.shape[0]):\n",
    "    sess_key = data_test[\"sessionkey_id\"][num]\n",
    "    count_page = DATA[DATA[\"sessionkey_id\"] == sess_key][\"pageview_duration_sec\"].sum()\n",
    "    new_column.append(count_page)\n",
    "data_test['sum_min_6'] = new_column\n",
    "data_train[\"sum_min_6\"].fillna(0, inplace=True)\n",
    "data_test[\"sum_min_6\"].fillna(0, inplace=True)\n",
    "\n",
    "DATA = data_webstat[data_webstat[\"page_type\"] == 7]\n",
    "new_column = list()\n",
    "for num in range(data_train.shape[0]):\n",
    "    sess_key = data_train[\"sessionkey_id\"][num]\n",
    "    count_page = DATA[DATA[\"sessionkey_id\"] == sess_key][\"pageview_duration_sec\"].sum()\n",
    "    new_column.append(count_page)\n",
    "data_train['sum_min_7'] = new_column\n",
    "new_column = list()\n",
    "for num in range(data_test.shape[0]):\n",
    "    sess_key = data_test[\"sessionkey_id\"][num]\n",
    "    count_page = DATA[DATA[\"sessionkey_id\"] == sess_key][\"pageview_duration_sec\"].sum()\n",
    "    new_column.append(count_page)\n",
    "data_test['sum_min_7'] = new_column\n",
    "data_train[\"sum_min_7\"].fillna(0, inplace=True)\n",
    "data_test[\"sum_min_7\"].fillna(0, inplace=True)"
   ]
  },
  {
   "cell_type": "code",
   "execution_count": 1287,
   "id": "e5625f44-fe0a-414c-886a-2e5894ed83eb",
   "metadata": {},
   "outputs": [],
   "source": [
    "DATA = data_webstat[data_webstat[\"page_type\"] == 8]\n",
    "new_column = list()\n",
    "for num in range(data_train.shape[0]):\n",
    "    sess_key = data_train[\"sessionkey_id\"][num]\n",
    "    count_page = DATA[DATA[\"sessionkey_id\"] == sess_key][\"pageview_duration_sec\"].sum()\n",
    "    new_column.append(count_page)\n",
    "data_train['sum_min_8'] = new_column\n",
    "new_column = list()\n",
    "for num in range(data_test.shape[0]):\n",
    "    sess_key = data_test[\"sessionkey_id\"][num]\n",
    "    count_page = DATA[DATA[\"sessionkey_id\"] == sess_key][\"pageview_duration_sec\"].sum()\n",
    "    new_column.append(count_page)\n",
    "data_test['sum_min_8'] = new_column\n",
    "data_train[\"sum_min_8\"].fillna(0, inplace=True)\n",
    "data_test[\"sum_min_8\"].fillna(0, inplace=True)\n",
    "\n",
    "DATA = data_webstat[data_webstat[\"page_type\"] == 9]\n",
    "new_column = list()\n",
    "for num in range(data_train.shape[0]):\n",
    "    sess_key = data_train[\"sessionkey_id\"][num]\n",
    "    count_page = DATA[DATA[\"sessionkey_id\"] == sess_key][\"pageview_duration_sec\"].sum()\n",
    "    new_column.append(count_page)\n",
    "data_train['sum_min_9'] = new_column\n",
    "new_column = list()\n",
    "for num in range(data_test.shape[0]):\n",
    "    sess_key = data_test[\"sessionkey_id\"][num]\n",
    "    count_page = DATA[DATA[\"sessionkey_id\"] == sess_key][\"pageview_duration_sec\"].sum()\n",
    "    new_column.append(count_page)\n",
    "data_test['sum_min_9'] = new_column\n",
    "data_train[\"sum_min_9\"].fillna(0, inplace=True)\n",
    "data_test[\"sum_min_9\"].fillna(0, inplace=True)"
   ]
  },
  {
   "cell_type": "code",
   "execution_count": 952,
   "id": "8bacb43d-b946-4f74-9449-ff58b0f5c129",
   "metadata": {},
   "outputs": [],
   "source": [
    "new_column = list()\n",
    "for num in range(data_train.shape[0]):\n",
    "    sess_key = data_train[\"sessionkey_id\"][num]\n",
    "    count_second = (data_train[data_train[\"sessionkey_id\"] == sess_key][\"create_time_ts\"].max() - data_webstat[data_webstat[\"sessionkey_id\"] == sess_key]['time'].max()).seconds\n",
    "    new_column.append(count_second)\n",
    "data_train['second_order_last'] = new_column\n",
    "new_column = list()\n",
    "for num in range(data_test.shape[0]):\n",
    "    sess_key = data_test[\"sessionkey_id\"][num]\n",
    "    count_second = (data_test[data_test[\"sessionkey_id\"] == sess_key][\"create_time_ts\"].max() - data_webstat[data_webstat[\"sessionkey_id\"] == sess_key]['time'].max()).seconds\n",
    "    new_column.append(count_second)\n",
    "data_test['second_order_last'] = new_column"
   ]
  },
  {
   "cell_type": "code",
   "execution_count": 1061,
   "id": "151be3e1-9b99-4590-9c26-040d3333660f",
   "metadata": {},
   "outputs": [],
   "source": [
    "new_column = list()\n",
    "for num in range(data_train.shape[0]):\n",
    "    sess_key = data_train[\"sessionkey_id\"][num]\n",
    "    count_second = (data_webstat[data_webstat[\"sessionkey_id\"] == sess_key]['time'].max() - data_webstat[data_webstat[\"sessionkey_id\"] == sess_key]['time'].min()).seconds\n",
    "    new_column.append(count_second)\n",
    "data_train['first_last_time'] = new_column\n",
    "new_column = list()\n",
    "for num in range(data_test.shape[0]):\n",
    "    sess_key = data_test[\"sessionkey_id\"][num]\n",
    "    count_second = (data_webstat[data_webstat[\"sessionkey_id\"] == sess_key]['time'].max() - data_webstat[data_webstat[\"sessionkey_id\"] == sess_key]['time'].min()).seconds\n",
    "    new_column.append(count_second)\n",
    "data_test['first_last_time'] = new_column"
   ]
  },
  {
   "cell_type": "code",
   "execution_count": 1806,
   "id": "61940242-ea10-4348-941a-984ced4a937e",
   "metadata": {},
   "outputs": [],
   "source": [
    "new_column = list()\n",
    "for num in range(data_train.shape[0]):\n",
    "    sess_key = data_train[\"sessionkey_id\"][num]\n",
    "    max_time = list(data_train[data_train[\"sessionkey_id\"] == sess_key][\"first_last_time\"])[0] - list(data_train[data_train[\"sessionkey_id\"] == sess_key][\"sum_time_page\"])[0]\n",
    "    new_column.append(max_time)\n",
    "data_train['non_session_time'] = new_column\n",
    "new_column = list()\n",
    "for num in range(data_test.shape[0]):\n",
    "    sess_key = data_test[\"sessionkey_id\"][num]\n",
    "    max_time = list(data_test[data_test[\"sessionkey_id\"] == sess_key][\"first_last_time\"])[0] - list(data_test[data_test[\"sessionkey_id\"] == sess_key][\"sum_time_page\"])[0]\n",
    "    new_column.append(max_time)\n",
    "data_test['non_session_time'] = new_column"
   ]
  },
  {
   "cell_type": "code",
   "execution_count": 1807,
   "id": "83cdaf68-29b4-4161-85d0-2cbb1002a03b",
   "metadata": {},
   "outputs": [
    {
     "data": {
      "text/html": [
       "<div>\n",
       "<style scoped>\n",
       "    .dataframe tbody tr th:only-of-type {\n",
       "        vertical-align: middle;\n",
       "    }\n",
       "\n",
       "    .dataframe tbody tr th {\n",
       "        vertical-align: top;\n",
       "    }\n",
       "\n",
       "    .dataframe thead th {\n",
       "        text-align: right;\n",
       "    }\n",
       "</style>\n",
       "<table border=\"1\" class=\"dataframe\">\n",
       "  <thead>\n",
       "    <tr style=\"text-align: right;\">\n",
       "      <th></th>\n",
       "      <th>order_id</th>\n",
       "      <th>good_id</th>\n",
       "      <th>price</th>\n",
       "      <th>utm_medium</th>\n",
       "      <th>utm_source</th>\n",
       "      <th>sessionkey_id</th>\n",
       "      <th>category_id</th>\n",
       "      <th>parent_id</th>\n",
       "      <th>root_id</th>\n",
       "      <th>model_id</th>\n",
       "      <th>...</th>\n",
       "      <th>sum_min_4</th>\n",
       "      <th>sum_min_5</th>\n",
       "      <th>sum_min_6</th>\n",
       "      <th>sum_min_7</th>\n",
       "      <th>second_order_last</th>\n",
       "      <th>first_last_time</th>\n",
       "      <th>day</th>\n",
       "      <th>sum_min_8</th>\n",
       "      <th>sum_min_9</th>\n",
       "      <th>non_session_time</th>\n",
       "    </tr>\n",
       "  </thead>\n",
       "  <tbody>\n",
       "    <tr>\n",
       "      <th>0</th>\n",
       "      <td>1269921</td>\n",
       "      <td>9896348</td>\n",
       "      <td>753</td>\n",
       "      <td>5</td>\n",
       "      <td>8.0</td>\n",
       "      <td>123777004</td>\n",
       "      <td>139</td>\n",
       "      <td>133</td>\n",
       "      <td>124</td>\n",
       "      <td>123517</td>\n",
       "      <td>...</td>\n",
       "      <td>0.0</td>\n",
       "      <td>0.0</td>\n",
       "      <td>0.0</td>\n",
       "      <td>0.0</td>\n",
       "      <td>545.0</td>\n",
       "      <td>0.0</td>\n",
       "      <td>26</td>\n",
       "      <td>0.0</td>\n",
       "      <td>0.0</td>\n",
       "      <td>0.0</td>\n",
       "    </tr>\n",
       "    <tr>\n",
       "      <th>1</th>\n",
       "      <td>1270034</td>\n",
       "      <td>9896348</td>\n",
       "      <td>753</td>\n",
       "      <td>1</td>\n",
       "      <td>2.0</td>\n",
       "      <td>123781654</td>\n",
       "      <td>139</td>\n",
       "      <td>133</td>\n",
       "      <td>124</td>\n",
       "      <td>123517</td>\n",
       "      <td>...</td>\n",
       "      <td>0.0</td>\n",
       "      <td>15.0</td>\n",
       "      <td>0.0</td>\n",
       "      <td>0.0</td>\n",
       "      <td>86272.0</td>\n",
       "      <td>4237.0</td>\n",
       "      <td>26</td>\n",
       "      <td>33.0</td>\n",
       "      <td>0.0</td>\n",
       "      <td>406.0</td>\n",
       "    </tr>\n",
       "    <tr>\n",
       "      <th>2</th>\n",
       "      <td>1268272</td>\n",
       "      <td>9896348</td>\n",
       "      <td>753</td>\n",
       "      <td>2</td>\n",
       "      <td>3.0</td>\n",
       "      <td>123591002</td>\n",
       "      <td>139</td>\n",
       "      <td>133</td>\n",
       "      <td>124</td>\n",
       "      <td>123517</td>\n",
       "      <td>...</td>\n",
       "      <td>0.0</td>\n",
       "      <td>15.0</td>\n",
       "      <td>0.0</td>\n",
       "      <td>0.0</td>\n",
       "      <td>76.0</td>\n",
       "      <td>370.0</td>\n",
       "      <td>25</td>\n",
       "      <td>72.0</td>\n",
       "      <td>0.0</td>\n",
       "      <td>0.0</td>\n",
       "    </tr>\n",
       "    <tr>\n",
       "      <th>3</th>\n",
       "      <td>1270544</td>\n",
       "      <td>9896348</td>\n",
       "      <td>753</td>\n",
       "      <td>1</td>\n",
       "      <td>1.0</td>\n",
       "      <td>123832302</td>\n",
       "      <td>139</td>\n",
       "      <td>133</td>\n",
       "      <td>124</td>\n",
       "      <td>123517</td>\n",
       "      <td>...</td>\n",
       "      <td>0.0</td>\n",
       "      <td>0.0</td>\n",
       "      <td>0.0</td>\n",
       "      <td>0.0</td>\n",
       "      <td>85569.0</td>\n",
       "      <td>1926.0</td>\n",
       "      <td>26</td>\n",
       "      <td>0.0</td>\n",
       "      <td>0.0</td>\n",
       "      <td>0.0</td>\n",
       "    </tr>\n",
       "    <tr>\n",
       "      <th>4</th>\n",
       "      <td>1270970</td>\n",
       "      <td>9896348</td>\n",
       "      <td>753</td>\n",
       "      <td>3</td>\n",
       "      <td>56.0</td>\n",
       "      <td>123881603</td>\n",
       "      <td>139</td>\n",
       "      <td>133</td>\n",
       "      <td>124</td>\n",
       "      <td>123517</td>\n",
       "      <td>...</td>\n",
       "      <td>0.0</td>\n",
       "      <td>0.0</td>\n",
       "      <td>47.0</td>\n",
       "      <td>0.0</td>\n",
       "      <td>233.0</td>\n",
       "      <td>447.0</td>\n",
       "      <td>26</td>\n",
       "      <td>0.0</td>\n",
       "      <td>0.0</td>\n",
       "      <td>353.0</td>\n",
       "    </tr>\n",
       "    <tr>\n",
       "      <th>...</th>\n",
       "      <td>...</td>\n",
       "      <td>...</td>\n",
       "      <td>...</td>\n",
       "      <td>...</td>\n",
       "      <td>...</td>\n",
       "      <td>...</td>\n",
       "      <td>...</td>\n",
       "      <td>...</td>\n",
       "      <td>...</td>\n",
       "      <td>...</td>\n",
       "      <td>...</td>\n",
       "      <td>...</td>\n",
       "      <td>...</td>\n",
       "      <td>...</td>\n",
       "      <td>...</td>\n",
       "      <td>...</td>\n",
       "      <td>...</td>\n",
       "      <td>...</td>\n",
       "      <td>...</td>\n",
       "      <td>...</td>\n",
       "      <td>...</td>\n",
       "    </tr>\n",
       "    <tr>\n",
       "      <th>104590</th>\n",
       "      <td>1250981</td>\n",
       "      <td>68657110</td>\n",
       "      <td>1497</td>\n",
       "      <td>4</td>\n",
       "      <td>1.0</td>\n",
       "      <td>121795335</td>\n",
       "      <td>2873</td>\n",
       "      <td>1229</td>\n",
       "      <td>1183</td>\n",
       "      <td>35231362</td>\n",
       "      <td>...</td>\n",
       "      <td>1614.0</td>\n",
       "      <td>0.0</td>\n",
       "      <td>0.0</td>\n",
       "      <td>0.0</td>\n",
       "      <td>83726.0</td>\n",
       "      <td>3124.0</td>\n",
       "      <td>16</td>\n",
       "      <td>0.0</td>\n",
       "      <td>0.0</td>\n",
       "      <td>15.0</td>\n",
       "    </tr>\n",
       "    <tr>\n",
       "      <th>104591</th>\n",
       "      <td>1173775</td>\n",
       "      <td>60391507</td>\n",
       "      <td>1354</td>\n",
       "      <td>1</td>\n",
       "      <td>2.0</td>\n",
       "      <td>114277105</td>\n",
       "      <td>2873</td>\n",
       "      <td>1229</td>\n",
       "      <td>1183</td>\n",
       "      <td>35231362</td>\n",
       "      <td>...</td>\n",
       "      <td>0.0</td>\n",
       "      <td>0.0</td>\n",
       "      <td>0.0</td>\n",
       "      <td>0.0</td>\n",
       "      <td>41690.0</td>\n",
       "      <td>1046.0</td>\n",
       "      <td>8</td>\n",
       "      <td>34.0</td>\n",
       "      <td>0.0</td>\n",
       "      <td>436.0</td>\n",
       "    </tr>\n",
       "    <tr>\n",
       "      <th>104592</th>\n",
       "      <td>1180920</td>\n",
       "      <td>66971400</td>\n",
       "      <td>1452</td>\n",
       "      <td>2</td>\n",
       "      <td>0.0</td>\n",
       "      <td>114972131</td>\n",
       "      <td>2873</td>\n",
       "      <td>1229</td>\n",
       "      <td>1183</td>\n",
       "      <td>35231362</td>\n",
       "      <td>...</td>\n",
       "      <td>0.0</td>\n",
       "      <td>0.0</td>\n",
       "      <td>39.0</td>\n",
       "      <td>0.0</td>\n",
       "      <td>86349.0</td>\n",
       "      <td>2276.0</td>\n",
       "      <td>12</td>\n",
       "      <td>0.0</td>\n",
       "      <td>0.0</td>\n",
       "      <td>674.0</td>\n",
       "    </tr>\n",
       "    <tr>\n",
       "      <th>104593</th>\n",
       "      <td>1177882</td>\n",
       "      <td>60391498</td>\n",
       "      <td>1433</td>\n",
       "      <td>4</td>\n",
       "      <td>2.0</td>\n",
       "      <td>114672813</td>\n",
       "      <td>2873</td>\n",
       "      <td>1229</td>\n",
       "      <td>1183</td>\n",
       "      <td>35231362</td>\n",
       "      <td>...</td>\n",
       "      <td>0.0</td>\n",
       "      <td>19.0</td>\n",
       "      <td>0.0</td>\n",
       "      <td>0.0</td>\n",
       "      <td>305.0</td>\n",
       "      <td>1361.0</td>\n",
       "      <td>10</td>\n",
       "      <td>0.0</td>\n",
       "      <td>0.0</td>\n",
       "      <td>0.0</td>\n",
       "    </tr>\n",
       "    <tr>\n",
       "      <th>104594</th>\n",
       "      <td>1197777</td>\n",
       "      <td>65302780</td>\n",
       "      <td>56</td>\n",
       "      <td>6</td>\n",
       "      <td>7.0</td>\n",
       "      <td>116314003</td>\n",
       "      <td>2873</td>\n",
       "      <td>1229</td>\n",
       "      <td>1183</td>\n",
       "      <td>35231362</td>\n",
       "      <td>...</td>\n",
       "      <td>57.0</td>\n",
       "      <td>0.0</td>\n",
       "      <td>76.0</td>\n",
       "      <td>0.0</td>\n",
       "      <td>71144.0</td>\n",
       "      <td>296.0</td>\n",
       "      <td>20</td>\n",
       "      <td>24.0</td>\n",
       "      <td>0.0</td>\n",
       "      <td>73.0</td>\n",
       "    </tr>\n",
       "  </tbody>\n",
       "</table>\n",
       "<p>104595 rows × 54 columns</p>\n",
       "</div>"
      ],
      "text/plain": [
       "        order_id   good_id  price  utm_medium  utm_source  sessionkey_id  \\\n",
       "0        1269921   9896348    753           5         8.0      123777004   \n",
       "1        1270034   9896348    753           1         2.0      123781654   \n",
       "2        1268272   9896348    753           2         3.0      123591002   \n",
       "3        1270544   9896348    753           1         1.0      123832302   \n",
       "4        1270970   9896348    753           3        56.0      123881603   \n",
       "...          ...       ...    ...         ...         ...            ...   \n",
       "104590   1250981  68657110   1497           4         1.0      121795335   \n",
       "104591   1173775  60391507   1354           1         2.0      114277105   \n",
       "104592   1180920  66971400   1452           2         0.0      114972131   \n",
       "104593   1177882  60391498   1433           4         2.0      114672813   \n",
       "104594   1197777  65302780     56           6         7.0      116314003   \n",
       "\n",
       "        category_id  parent_id  root_id  model_id  ...  sum_min_4  sum_min_5  \\\n",
       "0               139        133      124    123517  ...        0.0        0.0   \n",
       "1               139        133      124    123517  ...        0.0       15.0   \n",
       "2               139        133      124    123517  ...        0.0       15.0   \n",
       "3               139        133      124    123517  ...        0.0        0.0   \n",
       "4               139        133      124    123517  ...        0.0        0.0   \n",
       "...             ...        ...      ...       ...  ...        ...        ...   \n",
       "104590         2873       1229     1183  35231362  ...     1614.0        0.0   \n",
       "104591         2873       1229     1183  35231362  ...        0.0        0.0   \n",
       "104592         2873       1229     1183  35231362  ...        0.0        0.0   \n",
       "104593         2873       1229     1183  35231362  ...        0.0       19.0   \n",
       "104594         2873       1229     1183  35231362  ...       57.0        0.0   \n",
       "\n",
       "        sum_min_6  sum_min_7  second_order_last  first_last_time  day  \\\n",
       "0             0.0        0.0              545.0              0.0   26   \n",
       "1             0.0        0.0            86272.0           4237.0   26   \n",
       "2             0.0        0.0               76.0            370.0   25   \n",
       "3             0.0        0.0            85569.0           1926.0   26   \n",
       "4            47.0        0.0              233.0            447.0   26   \n",
       "...           ...        ...                ...              ...  ...   \n",
       "104590        0.0        0.0            83726.0           3124.0   16   \n",
       "104591        0.0        0.0            41690.0           1046.0    8   \n",
       "104592       39.0        0.0            86349.0           2276.0   12   \n",
       "104593        0.0        0.0              305.0           1361.0   10   \n",
       "104594       76.0        0.0            71144.0            296.0   20   \n",
       "\n",
       "       sum_min_8 sum_min_9  non_session_time  \n",
       "0            0.0       0.0               0.0  \n",
       "1           33.0       0.0             406.0  \n",
       "2           72.0       0.0               0.0  \n",
       "3            0.0       0.0               0.0  \n",
       "4            0.0       0.0             353.0  \n",
       "...          ...       ...               ...  \n",
       "104590       0.0       0.0              15.0  \n",
       "104591      34.0       0.0             436.0  \n",
       "104592       0.0       0.0             674.0  \n",
       "104593       0.0       0.0               0.0  \n",
       "104594      24.0       0.0              73.0  \n",
       "\n",
       "[104595 rows x 54 columns]"
      ]
     },
     "execution_count": 1807,
     "metadata": {},
     "output_type": "execute_result"
    }
   ],
   "source": [
    "data_train"
   ]
  },
  {
   "cell_type": "code",
   "execution_count": 5,
   "id": "a7f94bba-c024-46b7-8ce2-c92268015d57",
   "metadata": {},
   "outputs": [],
   "source": [
    "data_train = pd.read_csv(\"./data_train_new.csv\")\n",
    "data_test = pd.read_csv(\"./data_test_new.csv\")\n",
    "data_webstat = pd.read_csv(\"./data/t1_webstat.csv\")"
   ]
  },
  {
   "cell_type": "code",
   "execution_count": 7,
   "id": "80fe4676-1c44-46f4-9a1d-cd408d790240",
   "metadata": {},
   "outputs": [],
   "source": [
    "new_column = list()\n",
    "for num in range(data_train.shape[0]):\n",
    "    sess_key = data_train[\"sessionkey_id\"][num]\n",
    "    max_time = list(data_train[data_train[\"sessionkey_id\"] == sess_key][\"first_last_time\"])[0] - list(data_train[data_train[\"sessionkey_id\"] == sess_key][\"sum_time_page\"])[0]\n",
    "    new_column.append(max_time)\n",
    "data_train['non_session_time'] = new_column\n",
    "new_column = list()\n",
    "for num in range(data_test.shape[0]):\n",
    "    sess_key = data_test[\"sessionkey_id\"][num]\n",
    "    max_time = list(data_test[data_test[\"sessionkey_id\"] == sess_key][\"first_last_time\"])[0] - list(data_test[data_test[\"sessionkey_id\"] == sess_key][\"sum_time_page\"])[0]\n",
    "    new_column.append(max_time)\n",
    "data_test['non_session_time'] = new_column"
   ]
  },
  {
   "cell_type": "code",
   "execution_count": 38,
   "id": "237bad71-ef34-4ba7-a919-e764a8c7fe3a",
   "metadata": {},
   "outputs": [
    {
     "data": {
      "text/html": [
       "<div>\n",
       "<style scoped>\n",
       "    .dataframe tbody tr th:only-of-type {\n",
       "        vertical-align: middle;\n",
       "    }\n",
       "\n",
       "    .dataframe tbody tr th {\n",
       "        vertical-align: top;\n",
       "    }\n",
       "\n",
       "    .dataframe thead th {\n",
       "        text-align: right;\n",
       "    }\n",
       "</style>\n",
       "<table border=\"1\" class=\"dataframe\">\n",
       "  <thead>\n",
       "    <tr style=\"text-align: right;\">\n",
       "      <th></th>\n",
       "      <th>sessionkey_id</th>\n",
       "      <th>date_time</th>\n",
       "      <th>page_type</th>\n",
       "      <th>pageview_number</th>\n",
       "      <th>pageview_duration_sec</th>\n",
       "      <th>category_id</th>\n",
       "      <th>model_id</th>\n",
       "      <th>good_id</th>\n",
       "      <th>price</th>\n",
       "      <th>product_in_sale</th>\n",
       "    </tr>\n",
       "  </thead>\n",
       "  <tbody>\n",
       "    <tr>\n",
       "      <th>0</th>\n",
       "      <td>122243978</td>\n",
       "      <td>1975-12-18 14:52:38.130</td>\n",
       "      <td>2</td>\n",
       "      <td>28</td>\n",
       "      <td>53.0</td>\n",
       "      <td>1773.0</td>\n",
       "      <td>NaN</td>\n",
       "      <td>NaN</td>\n",
       "      <td>NaN</td>\n",
       "      <td>NaN</td>\n",
       "    </tr>\n",
       "    <tr>\n",
       "      <th>1</th>\n",
       "      <td>122243978</td>\n",
       "      <td>1975-12-18 15:02:32.403</td>\n",
       "      <td>5</td>\n",
       "      <td>36</td>\n",
       "      <td>163.0</td>\n",
       "      <td>NaN</td>\n",
       "      <td>NaN</td>\n",
       "      <td>NaN</td>\n",
       "      <td>NaN</td>\n",
       "      <td>NaN</td>\n",
       "    </tr>\n",
       "    <tr>\n",
       "      <th>2</th>\n",
       "      <td>122243978</td>\n",
       "      <td>1975-12-18 15:08:11.147</td>\n",
       "      <td>5</td>\n",
       "      <td>40</td>\n",
       "      <td>156.0</td>\n",
       "      <td>NaN</td>\n",
       "      <td>NaN</td>\n",
       "      <td>NaN</td>\n",
       "      <td>NaN</td>\n",
       "      <td>NaN</td>\n",
       "    </tr>\n",
       "    <tr>\n",
       "      <th>3</th>\n",
       "      <td>122243992</td>\n",
       "      <td>1975-12-18 14:23:33.177</td>\n",
       "      <td>1</td>\n",
       "      <td>4</td>\n",
       "      <td>565.0</td>\n",
       "      <td>3973.0</td>\n",
       "      <td>26706175.0</td>\n",
       "      <td>45171119.0</td>\n",
       "      <td>8436.0</td>\n",
       "      <td>1.0</td>\n",
       "    </tr>\n",
       "    <tr>\n",
       "      <th>4</th>\n",
       "      <td>122243992</td>\n",
       "      <td>1975-12-18 14:32:58.763</td>\n",
       "      <td>1</td>\n",
       "      <td>5</td>\n",
       "      <td>73.0</td>\n",
       "      <td>3973.0</td>\n",
       "      <td>17297250.0</td>\n",
       "      <td>65195750.0</td>\n",
       "      <td>6624.0</td>\n",
       "      <td>1.0</td>\n",
       "    </tr>\n",
       "    <tr>\n",
       "      <th>...</th>\n",
       "      <td>...</td>\n",
       "      <td>...</td>\n",
       "      <td>...</td>\n",
       "      <td>...</td>\n",
       "      <td>...</td>\n",
       "      <td>...</td>\n",
       "      <td>...</td>\n",
       "      <td>...</td>\n",
       "      <td>...</td>\n",
       "      <td>...</td>\n",
       "    </tr>\n",
       "    <tr>\n",
       "      <th>3334238</th>\n",
       "      <td>119215415</td>\n",
       "      <td>1975-12-03 14:45:42.320</td>\n",
       "      <td>1</td>\n",
       "      <td>2</td>\n",
       "      <td>NaN</td>\n",
       "      <td>141.0</td>\n",
       "      <td>856955.0</td>\n",
       "      <td>26681969.0</td>\n",
       "      <td>3467.0</td>\n",
       "      <td>1.0</td>\n",
       "    </tr>\n",
       "    <tr>\n",
       "      <th>3334239</th>\n",
       "      <td>119215471</td>\n",
       "      <td>1975-12-03 14:45:30.520</td>\n",
       "      <td>6</td>\n",
       "      <td>5</td>\n",
       "      <td>21.0</td>\n",
       "      <td>NaN</td>\n",
       "      <td>NaN</td>\n",
       "      <td>NaN</td>\n",
       "      <td>NaN</td>\n",
       "      <td>NaN</td>\n",
       "    </tr>\n",
       "    <tr>\n",
       "      <th>3334240</th>\n",
       "      <td>119215471</td>\n",
       "      <td>1975-12-03 14:50:11.470</td>\n",
       "      <td>6</td>\n",
       "      <td>8</td>\n",
       "      <td>16.0</td>\n",
       "      <td>NaN</td>\n",
       "      <td>NaN</td>\n",
       "      <td>NaN</td>\n",
       "      <td>NaN</td>\n",
       "      <td>NaN</td>\n",
       "    </tr>\n",
       "    <tr>\n",
       "      <th>3334241</th>\n",
       "      <td>119215471</td>\n",
       "      <td>1975-12-03 14:50:56.133</td>\n",
       "      <td>6</td>\n",
       "      <td>10</td>\n",
       "      <td>7.0</td>\n",
       "      <td>NaN</td>\n",
       "      <td>NaN</td>\n",
       "      <td>NaN</td>\n",
       "      <td>NaN</td>\n",
       "      <td>NaN</td>\n",
       "    </tr>\n",
       "    <tr>\n",
       "      <th>3334242</th>\n",
       "      <td>119215471</td>\n",
       "      <td>1975-12-03 14:51:20.223</td>\n",
       "      <td>6</td>\n",
       "      <td>12</td>\n",
       "      <td>7.0</td>\n",
       "      <td>NaN</td>\n",
       "      <td>NaN</td>\n",
       "      <td>NaN</td>\n",
       "      <td>NaN</td>\n",
       "      <td>NaN</td>\n",
       "    </tr>\n",
       "  </tbody>\n",
       "</table>\n",
       "<p>3334243 rows × 10 columns</p>\n",
       "</div>"
      ],
      "text/plain": [
       "         sessionkey_id                date_time  page_type  pageview_number  \\\n",
       "0            122243978  1975-12-18 14:52:38.130          2               28   \n",
       "1            122243978  1975-12-18 15:02:32.403          5               36   \n",
       "2            122243978  1975-12-18 15:08:11.147          5               40   \n",
       "3            122243992  1975-12-18 14:23:33.177          1                4   \n",
       "4            122243992  1975-12-18 14:32:58.763          1                5   \n",
       "...                ...                      ...        ...              ...   \n",
       "3334238      119215415  1975-12-03 14:45:42.320          1                2   \n",
       "3334239      119215471  1975-12-03 14:45:30.520          6                5   \n",
       "3334240      119215471  1975-12-03 14:50:11.470          6                8   \n",
       "3334241      119215471  1975-12-03 14:50:56.133          6               10   \n",
       "3334242      119215471  1975-12-03 14:51:20.223          6               12   \n",
       "\n",
       "         pageview_duration_sec  category_id    model_id     good_id   price  \\\n",
       "0                         53.0       1773.0         NaN         NaN     NaN   \n",
       "1                        163.0          NaN         NaN         NaN     NaN   \n",
       "2                        156.0          NaN         NaN         NaN     NaN   \n",
       "3                        565.0       3973.0  26706175.0  45171119.0  8436.0   \n",
       "4                         73.0       3973.0  17297250.0  65195750.0  6624.0   \n",
       "...                        ...          ...         ...         ...     ...   \n",
       "3334238                    NaN        141.0    856955.0  26681969.0  3467.0   \n",
       "3334239                   21.0          NaN         NaN         NaN     NaN   \n",
       "3334240                   16.0          NaN         NaN         NaN     NaN   \n",
       "3334241                    7.0          NaN         NaN         NaN     NaN   \n",
       "3334242                    7.0          NaN         NaN         NaN     NaN   \n",
       "\n",
       "         product_in_sale  \n",
       "0                    NaN  \n",
       "1                    NaN  \n",
       "2                    NaN  \n",
       "3                    1.0  \n",
       "4                    1.0  \n",
       "...                  ...  \n",
       "3334238              1.0  \n",
       "3334239              NaN  \n",
       "3334240              NaN  \n",
       "3334241              NaN  \n",
       "3334242              NaN  \n",
       "\n",
       "[3334243 rows x 10 columns]"
      ]
     },
     "execution_count": 38,
     "metadata": {},
     "output_type": "execute_result"
    }
   ],
   "source": [
    "data_webstat"
   ]
  },
  {
   "cell_type": "code",
   "execution_count": 172,
   "id": "d86e1b17-22af-4d69-9119-a9c83a135f85",
   "metadata": {},
   "outputs": [],
   "source": [
    "data_webstat = data_webstat.sort_values(by='date_time')"
   ]
  },
  {
   "cell_type": "code",
   "execution_count": 173,
   "id": "a078e021-215a-4121-bbc7-6dcce5c940c7",
   "metadata": {},
   "outputs": [],
   "source": [
    "new_column = list()\n",
    "for num in range(data_train.shape[0]):\n",
    "    sess_key = data_train[\"sessionkey_id\"][num]\n",
    "    data_s = data_webstat[data_webstat[\"sessionkey_id\"] == sess_key][\"page_type\"]\n",
    "    if data_s.shape[0] > 0:\n",
    "        max_time = data_s.iloc[-1]\n",
    "    else:\n",
    "        max_time = 0\n",
    "    new_column.append(max_time)\n",
    "data_train['last_page_type'] = new_column\n",
    "new_column = list()\n",
    "for num in range(data_test.shape[0]):\n",
    "    sess_key = data_test[\"sessionkey_id\"][num]\n",
    "    data_s = data_webstat[data_webstat[\"sessionkey_id\"] == sess_key][\"page_type\"]\n",
    "    if data_s.shape[0] > 0:\n",
    "        max_time = data_s.iloc[-1]\n",
    "    else:\n",
    "        max_time = 0\n",
    "    new_column.append(max_time)\n",
    "data_test['last_page_type'] = new_column"
   ]
  },
  {
   "cell_type": "code",
   "execution_count": 174,
   "id": "29647584-34ad-4298-8ea6-f9830e9bee16",
   "metadata": {},
   "outputs": [
    {
     "data": {
      "text/plain": [
       "Index(['order_id', 'good_id', 'price', 'utm_medium', 'utm_source',\n",
       "       'sessionkey_id', 'category_id', 'parent_id', 'root_id', 'model_id',\n",
       "       'is_moderated', 'rating_value', 'rating_count', 'description_length',\n",
       "       'goods_qty', 'pics_qty', 'is_callcenter', 'create_time_ts',\n",
       "       'model_create_time_ts', 'root_mean_call', 'hour', 'day_of_week',\n",
       "       'life_time', 'max_time_in_page', 'count_page', 'sum_time_page',\n",
       "       'mean_time_page', 'count_webpage_1', 'count_webpage_2',\n",
       "       'count_webpage_3', 'count_webpage_4', 'count_webpage_5',\n",
       "       'count_webpage_13', 'count_webpage_6', 'count_webpage_7',\n",
       "       'count_webpage_8', 'count_webpage_9', 'count_webpage_10',\n",
       "       'count_webpage_11', 'count_webpage_12', 'month', 'sum_min_1',\n",
       "       'sum_min_2', 'sum_min_3', 'sum_min_4', 'sum_min_5', 'sum_min_6',\n",
       "       'sum_min_7', 'second_order_last', 'first_last_time', 'day',\n",
       "       'non_session_time', 'last_page_type'],\n",
       "      dtype='object')"
      ]
     },
     "execution_count": 174,
     "metadata": {},
     "output_type": "execute_result"
    }
   ],
   "source": [
    "data_train.columns"
   ]
  },
  {
   "cell_type": "code",
   "execution_count": 175,
   "id": "ab85a601-598b-47c0-b401-8129f9bcf074",
   "metadata": {},
   "outputs": [],
   "source": [
    "features = ['good_id', 'price', 'utm_medium', 'utm_source', 'category_id', 'parent_id', 'root_id', 'model_id',\n",
    "       'is_moderated', 'rating_value', 'rating_count', 'description_length',\n",
    "       'goods_qty', 'pics_qty',\n",
    "       'model_create_time_ts', 'root_mean_call', 'hour', 'day_of_week',\n",
    "       'life_time', 'max_time_in_page', 'count_page', 'sum_time_page',\n",
    "       'mean_time_page', 'count_webpage_1', 'count_webpage_2',\n",
    "       'count_webpage_3', 'count_webpage_4', 'count_webpage_5',\n",
    "       'count_webpage_13', 'count_webpage_6', 'count_webpage_7',\n",
    "       'count_webpage_8', 'count_webpage_9', 'count_webpage_10',\n",
    "       'count_webpage_11', 'count_webpage_12', 'month', 'sum_min_1',\n",
    "       'sum_min_2', 'sum_min_3', 'sum_min_4', 'sum_min_5', 'sum_min_6',\n",
    "       'sum_min_7', 'second_order_last', 'first_last_time', 'day', 'non_session_time', 'last_page_type'\n",
    "]"
   ]
  },
  {
   "cell_type": "markdown",
   "id": "6ad38126-7ce6-4532-8735-2910f8721fed",
   "metadata": {
    "tags": []
   },
   "source": [
    "# ОБУЧЕНИЕ (TEST)"
   ]
  },
  {
   "cell_type": "code",
   "execution_count": 176,
   "id": "493a68fa-0778-4657-930e-5dde532f055c",
   "metadata": {},
   "outputs": [],
   "source": [
    "from catboost import CatBoostClassifier\n",
    "from sklearn.model_selection import train_test_split\n",
    "from catboost import cv\n",
    "from catboost import Pool"
   ]
  },
  {
   "cell_type": "code",
   "execution_count": 177,
   "id": "0a0dc808-9a5d-4250-8bd8-9a672e2a4a3e",
   "metadata": {},
   "outputs": [],
   "source": [
    "X_train_val, X_test, y_train_val, y_test = train_test_split(data_train[features], data_train[\"is_callcenter\"], test_size=0.15, stratify=data_train[\"is_callcenter\"])\n",
    "X_train, X_val, y_train, y_val = train_test_split(X_train_val, y_train_val, test_size=0.15, stratify = y_train_val)"
   ]
  },
  {
   "cell_type": "code",
   "execution_count": 178,
   "id": "3bffc059-a452-4051-8c6d-43b019a3a78f",
   "metadata": {},
   "outputs": [],
   "source": [
    "model = CatBoostClassifier(eval_metric = 'AUC', class_weights = [0.35, 0.65], verbose = 100)"
   ]
  },
  {
   "cell_type": "code",
   "execution_count": 179,
   "id": "f2c8ba16-d41a-4433-817e-cb92c47cefbc",
   "metadata": {},
   "outputs": [
    {
     "name": "stdout",
     "output_type": "stream",
     "text": [
      "Learning rate set to 0.092227\n",
      "0:\ttest: 0.9225207\tbest: 0.9225207 (0)\ttotal: 42.8ms\tremaining: 42.8s\n",
      "100:\ttest: 0.9562774\tbest: 0.9562774 (100)\ttotal: 1.34s\tremaining: 12s\n",
      "200:\ttest: 0.9580448\tbest: 0.9580448 (200)\ttotal: 2.51s\tremaining: 9.97s\n",
      "300:\ttest: 0.9587615\tbest: 0.9587621 (299)\ttotal: 3.67s\tremaining: 8.53s\n",
      "400:\ttest: 0.9590081\tbest: 0.9590081 (400)\ttotal: 4.83s\tremaining: 7.22s\n",
      "500:\ttest: 0.9593168\tbest: 0.9593168 (500)\ttotal: 6.03s\tremaining: 6s\n",
      "600:\ttest: 0.9593704\tbest: 0.9594540 (565)\ttotal: 7.27s\tremaining: 4.82s\n",
      "700:\ttest: 0.9593136\tbest: 0.9594540 (565)\ttotal: 8.5s\tremaining: 3.63s\n",
      "800:\ttest: 0.9593942\tbest: 0.9594540 (565)\ttotal: 10.2s\tremaining: 2.53s\n",
      "900:\ttest: 0.9593519\tbest: 0.9594540 (565)\ttotal: 11.9s\tremaining: 1.3s\n",
      "999:\ttest: 0.9592165\tbest: 0.9594540 (565)\ttotal: 13.2s\tremaining: 0us\n",
      "\n",
      "bestTest = 0.9594539971\n",
      "bestIteration = 565\n",
      "\n",
      "Shrink model to first 566 iterations.\n"
     ]
    },
    {
     "data": {
      "text/plain": [
       "<catboost.core.CatBoostClassifier at 0x7fbd73dbe610>"
      ]
     },
     "execution_count": 179,
     "metadata": {},
     "output_type": "execute_result"
    }
   ],
   "source": [
    "model.fit(X_train, y_train,eval_set=(X_val, y_val), use_best_model=True)"
   ]
  },
  {
   "cell_type": "code",
   "execution_count": 180,
   "id": "8d347097-4676-4b89-88c2-857d5c22ac4a",
   "metadata": {},
   "outputs": [],
   "source": [
    "predictions = model.predict_proba(X_test[features])"
   ]
  },
  {
   "cell_type": "code",
   "execution_count": 181,
   "id": "a47dfa85-7ea9-4114-bf02-83be84d3a21c",
   "metadata": {},
   "outputs": [
    {
     "data": {
      "text/plain": [
       "array([[0.36469344, 0.63530656],\n",
       "       [0.98834944, 0.01165056],\n",
       "       [0.8603302 , 0.1396698 ],\n",
       "       ...,\n",
       "       [0.41125936, 0.58874064],\n",
       "       [0.99753317, 0.00246683],\n",
       "       [0.99899414, 0.00100586]])"
      ]
     },
     "execution_count": 181,
     "metadata": {},
     "output_type": "execute_result"
    }
   ],
   "source": [
    "predictions"
   ]
  },
  {
   "cell_type": "code",
   "execution_count": 182,
   "id": "d34fa8af-123b-4b24-8914-4344175669d9",
   "metadata": {},
   "outputs": [],
   "source": [
    "ans = list()\n",
    "for element in predictions:\n",
    "    ans.append(element[1])"
   ]
  },
  {
   "cell_type": "code",
   "execution_count": 183,
   "id": "d58cef0d-ae6c-41e2-bda0-dae6e8160e47",
   "metadata": {},
   "outputs": [
    {
     "data": {
      "text/plain": [
       "0.9604814836999324"
      ]
     },
     "execution_count": 183,
     "metadata": {},
     "output_type": "execute_result"
    }
   ],
   "source": [
    "from sklearn.metrics import roc_auc_score\n",
    "roc_auc_score(y_test, ans)"
   ]
  },
  {
   "cell_type": "code",
   "execution_count": 184,
   "id": "0c8274a8-ee73-4e55-ae10-f113739cf47d",
   "metadata": {},
   "outputs": [
    {
     "data": {
      "text/plain": [
       "array([1.08841279e+00, 1.66776012e+00, 1.53707235e+00, 9.84735625e-01,\n",
       "       7.44130010e-01, 5.52700358e-01, 1.00615038e-01, 4.96665261e-01,\n",
       "       3.81472486e-02, 7.45479278e-02, 2.54947121e-01, 5.23227660e-01,\n",
       "       3.96924065e-01, 2.86179617e-01, 0.00000000e+00, 6.21724846e-01,\n",
       "       5.20559578e+00, 4.46078022e+00, 5.56693549e-01, 2.74652262e+00,\n",
       "       5.01773697e-01, 9.51295705e-01, 2.47248148e+00, 4.28593447e-01,\n",
       "       4.66432610e-01, 1.48434506e+00, 2.22639113e-01, 2.08017273e-01,\n",
       "       3.29411242e-02, 5.72762991e+00, 2.15246595e-01, 2.21674593e-01,\n",
       "       1.03600339e-01, 5.67233911e-02, 2.67758174e-02, 8.65182196e-03,\n",
       "       4.42104905e-01, 1.10051822e+00, 6.80767415e-01, 6.21806816e+00,\n",
       "       3.46601076e-01, 2.40428020e-01, 6.60541868e-01, 2.94635043e-01,\n",
       "       3.17172100e+01, 2.06253808e+00, 7.16786188e-01, 1.63049768e+01,\n",
       "       3.74862002e+00])"
      ]
     },
     "execution_count": 184,
     "metadata": {},
     "output_type": "execute_result"
    }
   ],
   "source": [
    "model.get_feature_importance()"
   ]
  },
  {
   "cell_type": "code",
   "execution_count": 185,
   "id": "328910fa-2f14-42aa-b35a-dc93991d1728",
   "metadata": {},
   "outputs": [
    {
     "name": "stdout",
     "output_type": "stream",
     "text": [
      "[14 35 34 28  8 33  9  6 32 27 30 31 26 41 10 13 43 40 12 23 36 24  7 20\n",
      " 11  5 18 15 42 38 46  4 21  3  0 37 25  2  1 45 22 19 48 17 16 29 39 47\n",
      " 44]\n"
     ]
    },
    {
     "data": {
      "image/png": "[encoded data removed]",
      "text/plain": [
       "<Figure size 1152x1008 with 1 Axes>"
      ]
     },
     "metadata": {
      "needs_background": "light"
     },
     "output_type": "display_data"
    }
   ],
   "source": [
    "indices = model.get_feature_importance().argsort()\n",
    "print(indices)\n",
    "cat_iris_imp = pd.Series(np.array(model.get_feature_importance())[indices],\n",
    "                         np.array(features)[indices])\n",
    "fig, ax = plt.subplots(figsize=(16,14))\n",
    "cat_iris_imp.plot.bar(ax=ax)\n",
    "ax.set_title(\"Важность признаков\")\n",
    "ax.set_ylabel('Важность, %')\n",
    "fig.tight_layout()"
   ]
  },
  {
   "cell_type": "code",
   "execution_count": 131,
   "id": "eafd1c17-ea89-404a-9088-fcb428a2cf6a",
   "metadata": {},
   "outputs": [
    {
     "data": {
      "text/plain": [
       "array(['model_create_time_ts', 'count_webpage_13', 'count_webpage_11',\n",
       "       'count_webpage_12', 'count_webpage_10', 'is_moderated',\n",
       "       'count_webpage_9', 'count_webpage_7', 'count_webpage_4',\n",
       "       'rating_value', 'root_id', 'count_webpage_5', 'rating_count',\n",
       "       'sum_min_5', 'count_webpage_8', 'sum_min_4', 'pics_qty',\n",
       "       'sum_min_7', 'count_webpage_2', 'month', 'count_webpage_1',\n",
       "       'model_id', 'count_page', 'goods_qty', 'life_time',\n",
       "       'root_mean_call', 'sum_min_2', 'description_length', 'parent_id',\n",
       "       'last_page_type', 'day', 'category_id', 'good_id', 'sum_min_1',\n",
       "       'sum_time_page', 'sum_min_6', 'utm_source', 'utm_medium',\n",
       "       'first_last_time', 'price', 'max_time_in_page', 'mean_time_page',\n",
       "       'count_webpage_3', 'sum_min_3', 'day_of_week', 'hour',\n",
       "       'count_webpage_6', 'non_session_time', 'second_order_last'],\n",
       "      dtype='<U20')"
      ]
     },
     "execution_count": 131,
     "metadata": {},
     "output_type": "execute_result"
    }
   ],
   "source": [
    "np.array(features)[indices]"
   ]
  },
  {
   "cell_type": "markdown",
   "id": "c0df3740-2ddb-4395-9561-05df76ec076c",
   "metadata": {
    "tags": []
   },
   "source": [
    "# ОБУЧЕНИЕ (Kaggle)"
   ]
  },
  {
   "cell_type": "code",
   "execution_count": 186,
   "id": "74e640cf-4877-4025-a92b-299e7d26dae2",
   "metadata": {},
   "outputs": [],
   "source": [
    "X_train, X_val, y_train, y_val = train_test_split(data_train[features], data_train[\"is_callcenter\"], test_size=0.2, random_state=42, stratify=data_train[\"is_callcenter\"])"
   ]
  },
  {
   "cell_type": "code",
   "execution_count": 187,
   "id": "6a28f6f3-a706-4721-bc6b-8b3b71cbb6c4",
   "metadata": {},
   "outputs": [
    {
     "name": "stdout",
     "output_type": "stream",
     "text": [
      "Learning rate set to 0.094578\n",
      "0:\ttest: 0.9310273\tbest: 0.9310273 (0)\ttotal: 33.9ms\tremaining: 33.9s\n",
      "100:\ttest: 0.9583076\tbest: 0.9583076 (100)\ttotal: 1.46s\tremaining: 13s\n",
      "200:\ttest: 0.9599145\tbest: 0.9599145 (200)\ttotal: 2.93s\tremaining: 11.6s\n",
      "300:\ttest: 0.9605991\tbest: 0.9606212 (289)\ttotal: 4.22s\tremaining: 9.8s\n",
      "400:\ttest: 0.9609470\tbest: 0.9609613 (381)\ttotal: 5.51s\tremaining: 8.23s\n",
      "500:\ttest: 0.9615069\tbest: 0.9615069 (500)\ttotal: 6.78s\tremaining: 6.76s\n",
      "600:\ttest: 0.9616661\tbest: 0.9616968 (596)\ttotal: 8.08s\tremaining: 5.36s\n",
      "700:\ttest: 0.9619476\tbest: 0.9619550 (697)\ttotal: 9.44s\tremaining: 4.02s\n",
      "800:\ttest: 0.9620255\tbest: 0.9620775 (779)\ttotal: 10.9s\tremaining: 2.71s\n",
      "900:\ttest: 0.9621785\tbest: 0.9621785 (900)\ttotal: 12.4s\tremaining: 1.36s\n",
      "999:\ttest: 0.9621552\tbest: 0.9621899 (908)\ttotal: 13.7s\tremaining: 0us\n",
      "\n",
      "bestTest = 0.9621898867\n",
      "bestIteration = 908\n",
      "\n",
      "Shrink model to first 909 iterations.\n"
     ]
    },
    {
     "data": {
      "text/plain": [
       "<catboost.core.CatBoostClassifier at 0x7fbd73ceda00>"
      ]
     },
     "execution_count": 187,
     "metadata": {},
     "output_type": "execute_result"
    }
   ],
   "source": [
    "model = CatBoostClassifier(eval_metric = 'AUC', class_weights = [0.35, 0.65], verbose = 100, iterations=1000)\n",
    "model.fit(X_train, y_train,eval_set=(X_val, y_val), use_best_model=True)"
   ]
  },
  {
   "cell_type": "code",
   "execution_count": 188,
   "id": "bc9fad46-9b25-448b-a0f6-9b4920025fa8",
   "metadata": {},
   "outputs": [],
   "source": [
    "predictions = model.predict_proba(data_test[features])"
   ]
  },
  {
   "cell_type": "code",
   "execution_count": 189,
   "id": "6207a8bc-cbe5-4518-8d54-9ec33de10e95",
   "metadata": {},
   "outputs": [
    {
     "data": {
      "text/plain": [
       "array([[0.97918474, 0.02081526],\n",
       "       [0.98755807, 0.01244193],\n",
       "       [0.25659299, 0.74340701],\n",
       "       ...,\n",
       "       [0.02784185, 0.97215815],\n",
       "       [0.89232604, 0.10767396],\n",
       "       [0.88313886, 0.11686114]])"
      ]
     },
     "execution_count": 189,
     "metadata": {},
     "output_type": "execute_result"
    }
   ],
   "source": [
    "predictions"
   ]
  },
  {
   "cell_type": "code",
   "execution_count": 190,
   "id": "36fa04ad-b815-45ed-bf4b-a136958a0fdf",
   "metadata": {},
   "outputs": [],
   "source": [
    "ans = list()\n",
    "for element in predictions:\n",
    "    ans.append(element[1])"
   ]
  },
  {
   "cell_type": "code",
   "execution_count": 191,
   "id": "ecd91f9a-bc33-40da-bcf4-005f82fbd86e",
   "metadata": {},
   "outputs": [],
   "source": [
    "id_column = data_test[\"order_id\"]\n",
    "result_column = ans\n",
    "dataset = pd.DataFrame({'order_id': id_column, 'is_callcenter': list(result_column)}, columns=['order_id', 'is_callcenter'])\n",
    "dataset.to_csv(\"sample_submission.csv\", index=False)"
   ]
  },
  {
   "cell_type": "code",
   "execution_count": 192,
   "id": "02fc86fa-d3f5-425a-9749-8036edac4e55",
   "metadata": {},
   "outputs": [],
   "source": [
    "data_train.to_csv(\"data_train_new.csv\", index=False)"
   ]
  },
  {
   "cell_type": "code",
   "execution_count": 193,
   "id": "eb066735-3d58-4058-a2d6-af9e27581928",
   "metadata": {},
   "outputs": [],
   "source": [
    "data_test.to_csv(\"data_test_new.csv\", index=False)"
   ]
  },
  {
   "cell_type": "code",
   "execution_count": 1852,
   "id": "fbece726-b3d3-460c-ad8d-0369e26e61c4",
   "metadata": {},
   "outputs": [
    {
     "ename": "FileNotFoundError",
     "evalue": "[Errno 2] No such file or directory: './ínput.txt'",
     "output_type": "error",
     "traceback": [
      "\u001b[0;31m---------------------------------------------------------------------------\u001b[0m",
      "\u001b[0;31mFileNotFoundError\u001b[0m                         Traceback (most recent call last)",
      "\u001b[0;32m/var/folders/zv/mdzh5_vd2dx1b8z8y90p6xtm0000gn/T/ipykernel_98384/3233627010.py\u001b[0m in \u001b[0;36m<module>\u001b[0;34m\u001b[0m\n\u001b[0;32m----> 1\u001b[0;31m \u001b[0;32mwith\u001b[0m \u001b[0mopen\u001b[0m\u001b[0;34m(\u001b[0m\u001b[0;34m'./ínput.txt'\u001b[0m\u001b[0;34m)\u001b[0m \u001b[0;32mas\u001b[0m \u001b[0mf\u001b[0m\u001b[0;34m:\u001b[0m\u001b[0;34m\u001b[0m\u001b[0;34m\u001b[0m\u001b[0m\n\u001b[0m\u001b[1;32m      2\u001b[0m         \u001b[0mprint\u001b[0m\u001b[0;34m(\u001b[0m\u001b[0;34m*\u001b[0m\u001b[0mlist\u001b[0m\u001b[0;34m(\u001b[0m\u001b[0mfilter\u001b[0m\u001b[0;34m(\u001b[0m\u001b[0;32mlambda\u001b[0m \u001b[0mline\u001b[0m\u001b[0;34m:\u001b[0m \u001b[0mline\u001b[0m\u001b[0;34m.\u001b[0m\u001b[0mfind\u001b[0m\u001b[0;34m(\u001b[0m\u001b[0;34m'ё'\u001b[0m\u001b[0;34m)\u001b[0m \u001b[0;34m!=\u001b[0m \u001b[0;34m-\u001b[0m\u001b[0;36m1\u001b[0m\u001b[0;34m,\u001b[0m \u001b[0mf\u001b[0m\u001b[0;34m)\u001b[0m\u001b[0;34m)\u001b[0m\u001b[0;34m,\u001b[0m \u001b[0msep\u001b[0m\u001b[0;34m=\u001b[0m\u001b[0;34m''\u001b[0m\u001b[0;34m,\u001b[0m \u001b[0mend\u001b[0m\u001b[0;34m=\u001b[0m\u001b[0;34m''\u001b[0m\u001b[0;34m)\u001b[0m\u001b[0;34m\u001b[0m\u001b[0;34m\u001b[0m\u001b[0m\n",
      "\u001b[0;31mFileNotFoundError\u001b[0m: [Errno 2] No such file or directory: './ínput.txt'"
     ]
    }
   ],
   "source": [
    "with open('./ínput.txt') as f:\n",
    "\tprint(*list(filter(lambda line: line.find('ё') != -1, f)), sep='', end='')"
   ]
  },
  {
   "cell_type": "code",
   "execution_count": null,
   "id": "ce6242fc-29e3-4927-a1dd-3ee3adb70ebd",
   "metadata": {},
   "outputs": [],
   "source": []
  }
 ],
 "metadata": {
  "kernelspec": {
   "display_name": "Python 3 (ipykernel)",
   "language": "python",
   "name": "python3"
  },
  "language_info": {
   "codemirror_mode": {
    "name": "ipython",
    "version": 3
   },
   "file_extension": ".py",
   "mimetype": "text/x-python",
   "name": "python",
   "nbconvert_exporter": "python",
   "pygments_lexer": "ipython3",
   "version": "3.9.7"
  }
 },
 "nbformat": 4,
 "nbformat_minor": 5
}
